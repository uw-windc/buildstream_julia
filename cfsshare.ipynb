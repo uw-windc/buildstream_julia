{
 "cells": [
  {
   "cell_type": "code",
   "execution_count": 9,
   "metadata": {},
   "outputs": [
    {
     "data": {
      "text/plain": []
     },
     "metadata": {},
     "output_type": "display_data"
    },
    {
     "name": "stdout",
     "output_type": "stream",
     "text": [
      "Sets\n",
      "\n",
      "sg => Dynamically created set from cfs2012 parameter, SCTG codes\n",
      "n => Dynamically created set from cfs2012 parameter, NAICS codes\n",
      "cfs_units_domain => Dynamically created set from cfs2012 parameter, units\n",
      "g => BEA Goods and sectors categories => Aliases: [:i]\n",
      "r => Regions in WiNDC Database\n",
      "sr => Super Regions in WiNDC Database\n",
      "i => BEA Goods and sectors categories => Aliases: [:g]\n",
      "\n",
      "Parameters\n",
      "\n",
      "d0 => (:r, :g) => Local supply-demand (CFS)\n",
      "rpc => (:r, :i) => Regional purchase coefficient\n",
      "x0shr => (:r, :i) => Export shares supply\n",
      "d0_ => (:r, :n, :sg) => State local supply\n",
      "mn0 => (:r, :g) => National demand (CFS)\n",
      "ng => (:g,) => Sectors not included in the CFS\n",
      "mrt0 => (:r, :r, :g) => Interstate trade (CFS)\n",
      "cfsdata_st_units => (:sr, :sr, :n, :sg, :cfs_units_domain) => CFS data for 2012, with units as domain\n",
      "mrt0_ => (:r, :r, :n, :sg) => Multi-regional trade\n",
      "xn0 => (:r, :g) => National exports (CFS)\n",
      "\n",
      "Scalars\n",
      "\n"
     ]
    }
   ],
   "source": [
    "include(\"cfsshare.jl\")\n",
    "\n",
    "GU = cfsshare(output_path = \"data/cfs_rpcs\")"
   ]
  }
 ],
 "metadata": {
  "kernelspec": {
   "display_name": "Julia 1.8.0",
   "language": "julia",
   "name": "julia-1.8"
  },
  "language_info": {
   "file_extension": ".jl",
   "mimetype": "application/julia",
   "name": "julia",
   "version": "1.8.0"
  },
  "orig_nbformat": 4
 },
 "nbformat": 4,
 "nbformat_minor": 2
}
