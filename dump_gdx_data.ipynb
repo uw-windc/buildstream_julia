{
 "cells": [
  {
   "cell_type": "code",
   "execution_count": 1,
   "metadata": {},
   "outputs": [],
   "source": [
    "import gams.transfer as gt\n",
    "import pandas as pd\n",
    "import os"
   ]
  },
  {
   "cell_type": "code",
   "execution_count": 2,
   "metadata": {},
   "outputs": [],
   "source": [
    "in_file = \"base_data/windc_base.gdx\""
   ]
  },
  {
   "cell_type": "code",
   "execution_count": 3,
   "metadata": {},
   "outputs": [],
   "source": [
    "w = gt.Container(in_file)"
   ]
  },
  {
   "cell_type": "code",
   "execution_count": 9,
   "metadata": {},
   "outputs": [
    {
     "data": {
      "text/plain": [
       "['*', '*', '*', '*']"
      ]
     },
     "execution_count": 9,
     "metadata": {},
     "output_type": "execute_result"
    }
   ],
   "source": [
    "w.data.get(\"use_units\").domain"
   ]
  },
  {
   "cell_type": "code",
   "execution_count": null,
   "metadata": {},
   "outputs": [],
   "source": []
  },
  {
   "cell_type": "code",
   "execution_count": 10,
   "metadata": {},
   "outputs": [
    {
     "ename": "Exception",
     "evalue": "GDX file 'c:\\Users\\mphillipson\\Documents\\WiNDC\\buildstream_julia\\data_testing\\nationaldata_ls.gdx' does not exist, check filename spelling or path specification",
     "output_type": "error",
     "traceback": [
      "\u001b[1;31m---------------------------------------------------------------------------\u001b[0m",
      "\u001b[1;31mException\u001b[0m                                 Traceback (most recent call last)",
      "Cell \u001b[1;32mIn[10], line 4\u001b[0m\n\u001b[0;32m      1\u001b[0m in_file \u001b[39m=\u001b[39m \u001b[39m\"\u001b[39m\u001b[39mdata_testing/nationaldata_ls.gdx\u001b[39m\u001b[39m\"\u001b[39m\n\u001b[0;32m      2\u001b[0m out_dir \u001b[39m=\u001b[39m \u001b[39m\"\u001b[39m\u001b[39mgams_nationaldata_ls\u001b[39m\u001b[39m\"\u001b[39m\n\u001b[1;32m----> 4\u001b[0m w \u001b[39m=\u001b[39m gt\u001b[39m.\u001b[39;49mContainer(in_file)\n",
      "File \u001b[1;32mc:\\Users\\mphillipson\\Anaconda3\\envs\\gams42\\lib\\site-packages\\gams\\transfer\\gamstransfer.py:6239\u001b[0m, in \u001b[0;36mContainer.__init__\u001b[1;34m(self, load_from, system_directory)\u001b[0m\n\u001b[0;32m   6236\u001b[0m \u001b[39mdef\u001b[39;00m \u001b[39m__init__\u001b[39m(\u001b[39mself\u001b[39m, load_from\u001b[39m=\u001b[39m\u001b[39mNone\u001b[39;00m, system_directory\u001b[39m=\u001b[39m\u001b[39mNone\u001b[39;00m):\n\u001b[0;32m   6237\u001b[0m \n\u001b[0;32m   6238\u001b[0m     \u001b[39m# constructor from _BaseContainer\u001b[39;00m\n\u001b[1;32m-> 6239\u001b[0m     \u001b[39msuper\u001b[39;49m()\u001b[39m.\u001b[39;49m\u001b[39m__init__\u001b[39;49m(load_from\u001b[39m=\u001b[39;49mload_from, system_directory\u001b[39m=\u001b[39;49msystem_directory)\n\u001b[0;32m   6241\u001b[0m     \u001b[39mself\u001b[39m\u001b[39m.\u001b[39mmodified \u001b[39m=\u001b[39m \u001b[39mTrue\u001b[39;00m\n",
      "File \u001b[1;32mc:\\Users\\mphillipson\\Anaconda3\\envs\\gams42\\lib\\site-packages\\gams\\transfer\\gamstransfer.py:5711\u001b[0m, in \u001b[0;36m_BaseContainer.__init__\u001b[1;34m(self, load_from, system_directory)\u001b[0m\n\u001b[0;32m   5709\u001b[0m \u001b[39mif\u001b[39;00m load_from \u001b[39mis\u001b[39;00m \u001b[39mnot\u001b[39;00m \u001b[39mNone\u001b[39;00m:\n\u001b[0;32m   5710\u001b[0m     \u001b[39mif\u001b[39;00m \u001b[39misinstance\u001b[39m(\u001b[39mself\u001b[39m, Container):\n\u001b[1;32m-> 5711\u001b[0m         \u001b[39mself\u001b[39;49m\u001b[39m.\u001b[39;49mread(load_from)\n\u001b[0;32m   5713\u001b[0m     \u001b[39melif\u001b[39;00m \u001b[39misinstance\u001b[39m(\u001b[39mself\u001b[39m, ConstContainer):\n\u001b[0;32m   5714\u001b[0m         \u001b[39mself\u001b[39m\u001b[39m.\u001b[39mread(load_from, records\u001b[39m=\u001b[39m\u001b[39mFalse\u001b[39;00m)\n",
      "File \u001b[1;32mc:\\Users\\mphillipson\\Anaconda3\\envs\\gams42\\lib\\site-packages\\gams\\transfer\\gamstransfer.py:5771\u001b[0m, in \u001b[0;36m_BaseContainer.read\u001b[1;34m(self, load_from, symbols, records)\u001b[0m\n\u001b[0;32m   5765\u001b[0m     \u001b[39mraise\u001b[39;00m \u001b[39mException\u001b[39;00m(\n\u001b[0;32m   5766\u001b[0m         \u001b[39m\"\u001b[39m\u001b[39mUnexpected file type passed to \u001b[39m\u001b[39m'\u001b[39m\u001b[39mload_from\u001b[39m\u001b[39m'\u001b[39m\u001b[39m argument \u001b[39m\u001b[39m\"\u001b[39m\n\u001b[0;32m   5767\u001b[0m         \u001b[39m\"\u001b[39m\u001b[39m-- expected file extension \u001b[39m\u001b[39m'\u001b[39m\u001b[39m.gdx\u001b[39m\u001b[39m'\u001b[39m\u001b[39m\"\u001b[39m\n\u001b[0;32m   5768\u001b[0m     )\n\u001b[0;32m   5770\u001b[0m \u001b[39mif\u001b[39;00m os\u001b[39m.\u001b[39mpath\u001b[39m.\u001b[39mexists(os\u001b[39m.\u001b[39mpath\u001b[39m.\u001b[39mabspath(load_from)) \u001b[39m==\u001b[39m \u001b[39mFalse\u001b[39;00m:\n\u001b[1;32m-> 5771\u001b[0m     \u001b[39mraise\u001b[39;00m \u001b[39mException\u001b[39;00m(\n\u001b[0;32m   5772\u001b[0m         \u001b[39mf\u001b[39m\u001b[39m\"\u001b[39m\u001b[39mGDX file \u001b[39m\u001b[39m'\u001b[39m\u001b[39m{\u001b[39;00mos\u001b[39m.\u001b[39mpath\u001b[39m.\u001b[39mabspath(load_from)\u001b[39m}\u001b[39;00m\u001b[39m'\u001b[39m\u001b[39m does not exist, \u001b[39m\u001b[39m\"\u001b[39m\n\u001b[0;32m   5773\u001b[0m         \u001b[39m\"\u001b[39m\u001b[39mcheck filename spelling or path specification\u001b[39m\u001b[39m\"\u001b[39m\n\u001b[0;32m   5774\u001b[0m     )\n\u001b[0;32m   5776\u001b[0m source \u001b[39m=\u001b[39m SourceTypes\u001b[39m.\u001b[39mGDX\n\u001b[0;32m   5777\u001b[0m load_from \u001b[39m=\u001b[39m os\u001b[39m.\u001b[39mpath\u001b[39m.\u001b[39mabspath(load_from)\n",
      "\u001b[1;31mException\u001b[0m: GDX file 'c:\\Users\\mphillipson\\Documents\\WiNDC\\buildstream_julia\\data_testing\\nationaldata_ls.gdx' does not exist, check filename spelling or path specification"
     ]
    }
   ],
   "source": [
    "in_file = \"data_testing/nationaldata_ls.gdx\"\n",
    "out_dir = \"gams_nationaldata_ls\"\n",
    "\n",
    "w = gt.Container(in_file)"
   ]
  },
  {
   "cell_type": "code",
   "execution_count": 14,
   "metadata": {},
   "outputs": [],
   "source": [
    "df = w[\"ys0\"].records\n",
    "df.columns = [\"yr\",\"j\",\"i\",\"value\"]"
   ]
  },
  {
   "cell_type": "code",
   "execution_count": null,
   "metadata": {},
   "outputs": [],
   "source": []
  },
  {
   "cell_type": "code",
   "execution_count": 4,
   "metadata": {},
   "outputs": [
    {
     "data": {
      "text/plain": [
       "dict_keys(['yr', 'i', 'fd', 'ts', 'va', 'm', 'r', 'y_0', 'ys_0', 'ty_0', 'fs_0', 'id_0', 'fd_0', 'va_0', 'ts_0', 'm_0', 'x_0', 'mrg_0', 'trn_0', 'duty_0', 'sbd_0', 'tax_0', 'ms_0', 'md_0', 's_0', 'a_0', 'bopdef_0', 'ta_0', 'tm_0'])"
      ]
     },
     "execution_count": 4,
     "metadata": {},
     "output_type": "execute_result"
    }
   ],
   "source": [
    "w.data.keys()"
   ]
  },
  {
   "cell_type": "code",
   "execution_count": 3,
   "metadata": {},
   "outputs": [
    {
     "name": "stdout",
     "output_type": "stream",
     "text": [
      "fs_0\n",
      "ts_0\n",
      "mrg_0\n",
      "trn_0\n",
      "duty_0\n",
      "sbd_0\n",
      "tax_0\n"
     ]
    }
   ],
   "source": [
    "out = {}\n",
    "\n",
    "set_type = type(w[\"i\"])\n",
    "parm_type = type(w[\"y_0\"])\n",
    "for key in w.data:\n",
    "    G = w[key]\n",
    "    dir = \"parameter\"\n",
    "    if type(G) == set_type:\n",
    "        dir = \"set\"\n",
    "    df = G.records\n",
    "    if df is not None:\n",
    "        if type(G) == parm_type:\n",
    "            cols = df.columns\n",
    "            cols = [e.split(\"_\")[0] for e in cols]\n",
    "            df.columns = cols\n",
    "            out[key] = df\n",
    "        #df.to_csv(os.path.join(out_dir,dir,f\"{key}.csv\"),index=False)\n",
    "    else:\n",
    "        print(key)"
   ]
  },
  {
   "cell_type": "code",
   "execution_count": 6,
   "metadata": {},
   "outputs": [
    {
     "name": "stdout",
     "output_type": "stream",
     "text": [
      ":y_0, (:yr,:i), \"\"\n",
      ":ys_0, (:yr,:j,:i), \"\"\n",
      ":ty_0, (:yr,:j), \"\"\n",
      ":id_0, (:yr,:i,:j), \"\"\n",
      ":fd_0, (:yr,:i,:fd), \"\"\n",
      ":va_0, (:yr,:va,:j), \"\"\n",
      ":m_0, (:yr,:i), \"\"\n",
      ":x_0, (:yr,:i), \"\"\n",
      ":ms_0, (:yr,:i,:m), \"\"\n",
      ":md_0, (:yr,:m,:i), \"\"\n",
      ":s_0, (:yr,:i), \"\"\n",
      ":a_0, (:yr,:i), \"\"\n",
      ":bopdef_0, (:yr), \"\"\n",
      ":ta_0, (:yr,:i), \"\"\n",
      ":tm_0, (:yr,:i), \"\"\n"
     ]
    }
   ],
   "source": [
    "for key in out:\n",
    "    cols = out[key].columns[:-1]\n",
    "    cols = \",\".join([f\":{e}\" for e in cols])\n",
    "    print(f\":{key}, ({cols}), \\\"\\\"\")"
   ]
  },
  {
   "cell_type": "code",
   "execution_count": null,
   "metadata": {},
   "outputs": [],
   "source": []
  }
 ],
 "metadata": {
  "kernelspec": {
   "display_name": "gams42",
   "language": "python",
   "name": "python3"
  },
  "language_info": {
   "codemirror_mode": {
    "name": "ipython",
    "version": 3
   },
   "file_extension": ".py",
   "mimetype": "text/x-python",
   "name": "python",
   "nbconvert_exporter": "python",
   "pygments_lexer": "ipython3",
   "version": "3.10.9"
  },
  "orig_nbformat": 4,
  "vscode": {
   "interpreter": {
    "hash": "c33847ed9762bf021579bdc98d0a0e4bf813e305bdba2aa201ef16fe84a27bb7"
   }
  }
 },
 "nbformat": 4,
 "nbformat_minor": 2
}
