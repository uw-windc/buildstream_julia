{
 "cells": [
  {
   "cell_type": "code",
   "execution_count": 1,
   "metadata": {},
   "outputs": [],
   "source": [
    "import gamstransfer as gt\n",
    "import pandas as pd\n",
    "import os"
   ]
  },
  {
   "cell_type": "code",
   "execution_count": 2,
   "metadata": {},
   "outputs": [
    {
     "name": "stdout",
     "output_type": "stream",
     "text": [
      "--- Warning: The GAMS version (41.1.0) differs from the API version (41.0.0).\n",
      "--- Warning: The GAMS version (41.1.0) differs from the API version (41.0.0).\n"
     ]
    }
   ],
   "source": [
    "in_file = \"data_testing/nationaldata_ls.gdx\"\n",
    "out_dir = \"gams_nationaldata_ls\"\n",
    "\n",
    "w = gt.Container(in_file)"
   ]
  },
  {
   "cell_type": "code",
   "execution_count": 14,
   "metadata": {},
   "outputs": [],
   "source": [
    "df = w[\"ys0\"].records\n",
    "df.columns = [\"yr\",\"j\",\"i\",\"value\"]"
   ]
  },
  {
   "cell_type": "code",
   "execution_count": null,
   "metadata": {},
   "outputs": [],
   "source": []
  },
  {
   "cell_type": "code",
   "execution_count": 4,
   "metadata": {},
   "outputs": [
    {
     "data": {
      "text/plain": [
       "dict_keys(['yr', 'i', 'fd', 'ts', 'va', 'm', 'r', 'y_0', 'ys_0', 'ty_0', 'fs_0', 'id_0', 'fd_0', 'va_0', 'ts_0', 'm_0', 'x_0', 'mrg_0', 'trn_0', 'duty_0', 'sbd_0', 'tax_0', 'ms_0', 'md_0', 's_0', 'a_0', 'bopdef_0', 'ta_0', 'tm_0'])"
      ]
     },
     "execution_count": 4,
     "metadata": {},
     "output_type": "execute_result"
    }
   ],
   "source": [
    "w.data.keys()"
   ]
  },
  {
   "cell_type": "code",
   "execution_count": 3,
   "metadata": {},
   "outputs": [
    {
     "name": "stdout",
     "output_type": "stream",
     "text": [
      "fs_0\n",
      "ts_0\n",
      "mrg_0\n",
      "trn_0\n",
      "duty_0\n",
      "sbd_0\n",
      "tax_0\n"
     ]
    }
   ],
   "source": [
    "out = {}\n",
    "\n",
    "set_type = type(w[\"i\"])\n",
    "parm_type = type(w[\"y_0\"])\n",
    "for key in w.data:\n",
    "    G = w[key]\n",
    "    dir = \"parameter\"\n",
    "    if type(G) == set_type:\n",
    "        dir = \"set\"\n",
    "    df = G.records\n",
    "    if df is not None:\n",
    "        if type(G) == parm_type:\n",
    "            cols = df.columns\n",
    "            cols = [e.split(\"_\")[0] for e in cols]\n",
    "            df.columns = cols\n",
    "            out[key] = df\n",
    "        #df.to_csv(os.path.join(out_dir,dir,f\"{key}.csv\"),index=False)\n",
    "    else:\n",
    "        print(key)"
   ]
  },
  {
   "cell_type": "code",
   "execution_count": 6,
   "metadata": {},
   "outputs": [
    {
     "name": "stdout",
     "output_type": "stream",
     "text": [
      ":y_0, (:yr,:i), \"\"\n",
      ":ys_0, (:yr,:j,:i), \"\"\n",
      ":ty_0, (:yr,:j), \"\"\n",
      ":id_0, (:yr,:i,:j), \"\"\n",
      ":fd_0, (:yr,:i,:fd), \"\"\n",
      ":va_0, (:yr,:va,:j), \"\"\n",
      ":m_0, (:yr,:i), \"\"\n",
      ":x_0, (:yr,:i), \"\"\n",
      ":ms_0, (:yr,:i,:m), \"\"\n",
      ":md_0, (:yr,:m,:i), \"\"\n",
      ":s_0, (:yr,:i), \"\"\n",
      ":a_0, (:yr,:i), \"\"\n",
      ":bopdef_0, (:yr), \"\"\n",
      ":ta_0, (:yr,:i), \"\"\n",
      ":tm_0, (:yr,:i), \"\"\n"
     ]
    }
   ],
   "source": [
    "for key in out:\n",
    "    cols = out[key].columns[:-1]\n",
    "    cols = \",\".join([f\":{e}\" for e in cols])\n",
    "    print(f\":{key}, ({cols}), \\\"\\\"\")"
   ]
  },
  {
   "cell_type": "code",
   "execution_count": null,
   "metadata": {},
   "outputs": [],
   "source": []
  }
 ],
 "metadata": {
  "kernelspec": {
   "display_name": "gams41",
   "language": "python",
   "name": "python3"
  },
  "language_info": {
   "codemirror_mode": {
    "name": "ipython",
    "version": 3
   },
   "file_extension": ".py",
   "mimetype": "text/x-python",
   "name": "python",
   "nbconvert_exporter": "python",
   "pygments_lexer": "ipython3",
   "version": "3.9.13 (main, Oct 13 2022, 21:23:06) [MSC v.1916 64 bit (AMD64)]"
  },
  "orig_nbformat": 4,
  "vscode": {
   "interpreter": {
    "hash": "2d8148a8a31ef43057a38d74919842836b9e63bf1d1d4aa18fbf63959bc65a17"
   }
  }
 },
 "nbformat": 4,
 "nbformat_minor": 2
}
