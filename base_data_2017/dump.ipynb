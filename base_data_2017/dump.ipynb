{
 "cells": [
  {
   "cell_type": "code",
   "execution_count": 1,
   "metadata": {},
   "outputs": [],
   "source": [
    "import gamstransfer as gt\n",
    "import pandas as pd\n",
    "import os"
   ]
  },
  {
   "cell_type": "code",
   "execution_count": 2,
   "metadata": {},
   "outputs": [
    {
     "name": "stdout",
     "output_type": "stream",
     "text": [
      "--- Warning: The GAMS version (41.1.0) differs from the API version (41.0.0).\n",
      "--- Warning: The GAMS version (41.1.0) differs from the API version (41.0.0).\n"
     ]
    }
   ],
   "source": [
    "in_file = \"windc_base.gdx\"\n",
    "\n",
    "w = gt.Container(in_file)"
   ]
  },
  {
   "cell_type": "code",
   "execution_count": 3,
   "metadata": {},
   "outputs": [],
   "source": [
    "set_type = type(w[\"i\"])\n",
    "parm_type = type(w[\"y0\"])\n",
    "for key in w.data:\n",
    "    G = w[key]\n",
    "    dir = \"parameter\"\n",
    "    if type(G) == set_type:\n",
    "        dir = \"set\"\n",
    "    df = G.records\n",
    "    if df is not None:\n",
    "        if type(G) == parm_type:\n",
    "            cols = df.columns\n",
    "            cols = [e.split(\"_\")[0] for e in cols]\n",
    "            df.columns = cols\n",
    "        df.to_csv(os.path.join(dir,f\"{key}.csv\"),index=False)\n",
    "    else:\n",
    "        print(key)"
   ]
  },
  {
   "cell_type": "code",
   "execution_count": null,
   "metadata": {},
   "outputs": [],
   "source": []
  }
 ],
 "metadata": {
  "kernelspec": {
   "display_name": "gams41",
   "language": "python",
   "name": "python3"
  },
  "language_info": {
   "codemirror_mode": {
    "name": "ipython",
    "version": 3
   },
   "file_extension": ".py",
   "mimetype": "text/x-python",
   "name": "python",
   "nbconvert_exporter": "python",
   "pygments_lexer": "ipython3",
   "version": "3.9.13"
  },
  "orig_nbformat": 4,
  "vscode": {
   "interpreter": {
    "hash": "2d8148a8a31ef43057a38d74919842836b9e63bf1d1d4aa18fbf63959bc65a17"
   }
  }
 },
 "nbformat": 4,
 "nbformat_minor": 2
}
