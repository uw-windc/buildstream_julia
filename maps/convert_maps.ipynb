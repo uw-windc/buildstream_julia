{
 "cells": [
  {
   "cell_type": "code",
   "execution_count": 7,
   "metadata": {},
   "outputs": [],
   "source": [
    "import csv\n",
    "\n",
    "input_file = \"mapusatrd.map\"\n",
    "output_file = \"mapusatrd.csv\"\n",
    "\n",
    "\n",
    "with open(input_file,\"r\") as d:\n",
    "    L = d.read()\n",
    "\n",
    "L = [e for e in L.split(\"\\n\") if e!=\"\"]\n",
    "\n",
    "out = []\n",
    "\n",
    "for line in L:\n",
    "    map_,desc = line.split(\"\\t\")\n",
    "\n",
    "    dest,source = map_.split(\".\")\n",
    "\n",
    "    source = source.strip(\")\").strip(\"(\")\n",
    "    dest = dest.strip(\")\").strip(\"(\")\n",
    "    for s in source.split(\",\"):\n",
    "        for d in dest.split(\",\"):\n",
    "            out.append([s,d,desc])\n",
    "\n",
    "\n",
    "with open(output_file,\"w\",newline = '') as d:\n",
    "    c = csv.writer(d)\n",
    "    c.writerows(out)"
   ]
  },
  {
   "cell_type": "code",
   "execution_count": null,
   "metadata": {},
   "outputs": [],
   "source": []
  }
 ],
 "metadata": {
  "kernelspec": {
   "display_name": "base",
   "language": "python",
   "name": "python3"
  },
  "language_info": {
   "codemirror_mode": {
    "name": "ipython",
    "version": 3
   },
   "file_extension": ".py",
   "mimetype": "text/x-python",
   "name": "python",
   "nbconvert_exporter": "python",
   "pygments_lexer": "ipython3",
   "version": "3.9.12"
  },
  "orig_nbformat": 4,
  "vscode": {
   "interpreter": {
    "hash": "ac97efbb835636f86a63c8ea0f697df920e29bf5635b42fc776c23a62298ea01"
   }
  }
 },
 "nbformat": 4,
 "nbformat_minor": 2
}
