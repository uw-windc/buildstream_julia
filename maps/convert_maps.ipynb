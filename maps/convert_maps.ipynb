{
 "cells": [
  {
   "cell_type": "code",
   "execution_count": 22,
   "metadata": {},
   "outputs": [],
   "source": [
    "import csv\n",
    "\n",
    "with open(\"mapgsp.map\",\"r\") as d:\n",
    "    L = d.read()\n",
    "\n",
    "L = [e for e in L.split(\"\\n\") if e!=\"\"]\n",
    "\n",
    "out = []\n",
    "\n",
    "for line in L:\n",
    "    a,desc = line.split(\"\\t\")\n",
    "\n",
    "    b,a = a.split(\".\")\n",
    "\n",
    "    if \"(\" not in a:\n",
    "        out.append([a,b,desc])\n",
    "    else:\n",
    "        a = a[1:-1]\n",
    "        for elm in a.split(\",\"):\n",
    "            out.append([elm,b,desc])\n",
    "\n",
    "\n",
    "with open(\"mapgsp.csv\",\"w\",newline = '') as d:\n",
    "    c = csv.writer(d)\n",
    "    c.writerows(out)"
   ]
  },
  {
   "cell_type": "code",
   "execution_count": 20,
   "metadata": {},
   "outputs": [
    {
     "data": {
      "text/plain": [
       "['gmt', '35', '\"Retail trade (44-45)\"']"
      ]
     },
     "execution_count": 20,
     "metadata": {},
     "output_type": "execute_result"
    }
   ],
   "source": [
    "out[29]"
   ]
  },
  {
   "cell_type": "code",
   "execution_count": null,
   "metadata": {},
   "outputs": [],
   "source": []
  }
 ],
 "metadata": {
  "kernelspec": {
   "display_name": "base",
   "language": "python",
   "name": "python3"
  },
  "language_info": {
   "codemirror_mode": {
    "name": "ipython",
    "version": 3
   },
   "file_extension": ".py",
   "mimetype": "text/x-python",
   "name": "python",
   "nbconvert_exporter": "python",
   "pygments_lexer": "ipython3",
   "version": "3.9.12"
  },
  "orig_nbformat": 4,
  "vscode": {
   "interpreter": {
    "hash": "ac97efbb835636f86a63c8ea0f697df920e29bf5635b42fc776c23a62298ea01"
   }
  }
 },
 "nbformat": 4,
 "nbformat_minor": 2
}
