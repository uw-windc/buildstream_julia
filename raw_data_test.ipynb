{
 "cells": [
  {
   "cell_type": "code",
   "execution_count": 15,
   "metadata": {},
   "outputs": [
    {
     "data": {
      "text/plain": [
       "\"base_data/windc_base.gdx\""
      ]
     },
     "metadata": {},
     "output_type": "display_data"
    }
   ],
   "source": [
    "using GamsStructure\n",
    "using GDX\n",
    "\n",
    "using PyCall\n",
    "\n",
    "@pyimport gams.transfer as gt\n",
    "\n",
    "in_file = \"base_data/windc_base.gdx\""
   ]
  },
  {
   "cell_type": "code",
   "execution_count": 16,
   "metadata": {},
   "outputs": [
    {
     "data": {
      "text/plain": [
       "PyObject <GAMS Transfer Container (0x25ab9d0)>"
      ]
     },
     "metadata": {},
     "output_type": "display_data"
    }
   ],
   "source": [
    "w = gt.Container(in_file)"
   ]
  },
  {
   "cell_type": "code",
   "execution_count": 18,
   "metadata": {},
   "outputs": [
    {
     "data": {
      "text/html": [
       "<div>\n",
       "<style scoped>\n",
       "    .dataframe tbody tr th:only-of-type {\n",
       "        vertical-align: middle;\n",
       "    }\n",
       "\n",
       "    .dataframe tbody tr th {\n",
       "        vertical-align: top;\n",
       "    }\n",
       "\n",
       "    .dataframe thead th {\n",
       "        text-align: right;\n",
       "    }\n",
       "</style>\n",
       "<table border=\"1\" class=\"dataframe\">\n",
       "  <thead>\n",
       "    <tr style=\"text-align: right;\">\n",
       "      <th></th>\n",
       "      <th>uni_0</th>\n",
       "      <th>uni_1</th>\n",
       "      <th>uni_2</th>\n",
       "      <th>uni_3</th>\n",
       "      <th>value</th>\n",
       "    </tr>\n",
       "  </thead>\n",
       "  <tbody>\n",
       "    <tr>\n",
       "      <th>0</th>\n",
       "      <td>1997</td>\n",
       "      <td>agr</td>\n",
       "      <td>agr</td>\n",
       "      <td>millions of us dollars (USD)</td>\n",
       "      <td>32454.0</td>\n",
       "    </tr>\n",
       "    <tr>\n",
       "      <th>1</th>\n",
       "      <td>1997</td>\n",
       "      <td>agr</td>\n",
       "      <td>fof</td>\n",
       "      <td>millions of us dollars (USD)</td>\n",
       "      <td>666.0</td>\n",
       "    </tr>\n",
       "    <tr>\n",
       "      <th>2</th>\n",
       "      <td>1997</td>\n",
       "      <td>agr</td>\n",
       "      <td>min</td>\n",
       "      <td>millions of us dollars (USD)</td>\n",
       "      <td>37.0</td>\n",
       "    </tr>\n",
       "    <tr>\n",
       "      <th>3</th>\n",
       "      <td>1997</td>\n",
       "      <td>agr</td>\n",
       "      <td>smn</td>\n",
       "      <td>millions of us dollars (USD)</td>\n",
       "      <td>5.0</td>\n",
       "    </tr>\n",
       "    <tr>\n",
       "      <th>4</th>\n",
       "      <td>1997</td>\n",
       "      <td>agr</td>\n",
       "      <td>con</td>\n",
       "      <td>millions of us dollars (USD)</td>\n",
       "      <td>1404.0</td>\n",
       "    </tr>\n",
       "    <tr>\n",
       "      <th>...</th>\n",
       "      <td>...</td>\n",
       "      <td>...</td>\n",
       "      <td>...</td>\n",
       "      <td>...</td>\n",
       "      <td>...</td>\n",
       "    </tr>\n",
       "    <tr>\n",
       "      <th>106643</th>\n",
       "      <td>2020</td>\n",
       "      <td>valueadded</td>\n",
       "      <td>fnd</td>\n",
       "      <td>millions of us dollars (USD)</td>\n",
       "      <td>334877.0</td>\n",
       "    </tr>\n",
       "    <tr>\n",
       "      <th>106644</th>\n",
       "      <td>2020</td>\n",
       "      <td>valueadded</td>\n",
       "      <td>fen</td>\n",
       "      <td>millions of us dollars (USD)</td>\n",
       "      <td>65855.0</td>\n",
       "    </tr>\n",
       "    <tr>\n",
       "      <th>106645</th>\n",
       "      <td>2020</td>\n",
       "      <td>valueadded</td>\n",
       "      <td>slg</td>\n",
       "      <td>millions of us dollars (USD)</td>\n",
       "      <td>1689391.0</td>\n",
       "    </tr>\n",
       "    <tr>\n",
       "      <th>106646</th>\n",
       "      <td>2020</td>\n",
       "      <td>valueadded</td>\n",
       "      <td>sle</td>\n",
       "      <td>millions of us dollars (USD)</td>\n",
       "      <td>132863.0</td>\n",
       "    </tr>\n",
       "    <tr>\n",
       "      <th>106647</th>\n",
       "      <td>2020</td>\n",
       "      <td>valueadded</td>\n",
       "      <td>totint</td>\n",
       "      <td>millions of us dollars (USD)</td>\n",
       "      <td>20893744.0</td>\n",
       "    </tr>\n",
       "  </tbody>\n",
       "</table>\n",
       "<p>106648 rows × 5 columns</p>\n",
       "</div>"
      ],
      "text/plain": [
       "PyObject        uni_0       uni_1   uni_2                         uni_3       value\n",
       "0       1997         agr     agr  millions of us dollars (USD)     32454.0\n",
       "1       1997         agr     fof  millions of us dollars (USD)       666.0\n",
       "2       1997         agr     min  millions of us dollars (USD)        37.0\n",
       "3       1997         agr     smn  millions of us dollars (USD)         5.0\n",
       "4       1997         agr     con  millions of us dollars (USD)      1404.0\n",
       "...      ...         ...     ...                           ...         ...\n",
       "106643  2020  valueadded     fnd  millions of us dollars (USD)    334877.0\n",
       "106644  2020  valueadded     fen  millions of us dollars (USD)     65855.0\n",
       "106645  2020  valueadded     slg  millions of us dollars (USD)   1689391.0\n",
       "106646  2020  valueadded     sle  millions of us dollars (USD)    132863.0\n",
       "106647  2020  valueadded  totint  millions of us dollars (USD)  20893744.0\n",
       "\n",
       "[106648 rows x 5 columns]"
      ]
     },
     "metadata": {},
     "output_type": "display_data"
    }
   ],
   "source": [
    "w.data.get(\"use_units\").records"
   ]
  },
  {
   "cell_type": "code",
   "execution_count": 13,
   "metadata": {},
   "outputs": [
    {
     "ename": "KeyError",
     "evalue": "KeyError: key Symbol(\"1997\") not found",
     "output_type": "error",
     "traceback": [
      "KeyError: key Symbol(\"1997\") not found\n",
      "\n",
      "Stacktrace:\n",
      "  [1] getindex(h::Dict{Symbol, Int64}, key::Symbol)\n",
      "    @ Base .\\dict.jl:498\n",
      "  [2] #43\n",
      "    @ .\\none:0 [inlined]\n",
      "  [3] iterate\n",
      "    @ .\\generator.jl:47 [inlined]\n",
      "  [4] collect(itr::Base.Generator{Vector{Symbol}, GamsStructure.var\"#43#44\"{Dict{Symbol, Int64}}})\n",
      "    @ Base .\\array.jl:787\n",
      "  [5] _convert_idx(P::GamsParameter{4}, i::Int64, idx::Vector{Symbol})\n",
      "    @ GamsStructure C:\\Users\\mphillipson\\.julia\\dev\\GamsStructure.jl\\src\\GamsParameter.jl:129\n",
      "  [6] #47\n",
      "    @ C:\\Users\\mphillipson\\.julia\\dev\\GamsStructure.jl\\src\\GamsParameter.jl:180 [inlined]\n",
      "  [7] iterate\n",
      "    @ .\\generator.jl:47 [inlined]\n",
      "  [8] collect(itr::Base.Generator{Base.Iterators.Enumerate{NTuple{4, Vector{Symbol}}}, GamsStructure.var\"#47#48\"{GamsParameter{4}}})\n",
      "    @ Base .\\array.jl:787\n",
      "  [9] map(f::Function, A::Base.Iterators.Enumerate{NTuple{4, Vector{Symbol}}})\n",
      "    @ Base .\\abstractarray.jl:2961\n",
      " [10] setindex!(::GamsParameter{4}, ::Float64, ::Vector{Symbol}, ::Vector{Symbol}, ::Vector{Symbol}, ::Vararg{Vector{Symbol}})\n",
      "    @ GamsStructure C:\\Users\\mphillipson\\.julia\\dev\\GamsStructure.jl\\src\\GamsParameter.jl:180\n",
      " [11] GamsParameter_from_python(GU::GamsUniverse, py_parm::PyCall.PyObject)\n",
      "    @ GDX C:\\Users\\mphillipson\\.julia\\dev\\GDX.jl\\src\\GDX.jl:90\n",
      " [12] GamsParameter_from_python!(GU::GamsUniverse, py_parm::PyCall.PyObject)\n",
      "    @ GDX C:\\Users\\mphillipson\\.julia\\dev\\GDX.jl\\src\\GDX.jl:99\n",
      " [13] load_universe_gdx!(GU::GamsUniverse, path_to_gdx::String; aliases::Dict{Symbol, Vector{Symbol}}, sets::Vector{Symbol}, parameters::Vector{Symbol})\n",
      "    @ GDX C:\\Users\\mphillipson\\.julia\\dev\\GDX.jl\\src\\GDX.jl:143\n",
      " [14] #load_universe_gdx#10\n",
      "    @ C:\\Users\\mphillipson\\.julia\\dev\\GDX.jl\\src\\GDX.jl:157 [inlined]\n",
      " [15] top-level scope\n",
      "    @ c:\\Users\\mphillipson\\Documents\\WiNDC\\buildstream_julia\\raw_data_test.ipynb:1"
     ]
    }
   ],
   "source": [
    "GU = load_universe_gdx(in_file, sets = [:i,:yr,:va,:fd,:ts], parameters = [:use_units,:supply_units])"
   ]
  },
  {
   "cell_type": "code",
   "execution_count": 14,
   "metadata": {},
   "outputs": [
    {
     "data": {
      "text/plain": []
     },
     "metadata": {},
     "output_type": "display_data"
    },
    {
     "name": "stdout",
     "output_type": "stream",
     "text": [
      "Years in WiNDC Database\n",
      "\n",
      "1997 \t \"1997\"\n",
      "1998 \t \"1998\"\n",
      "1999 \t \"1999\"\n",
      "2000 \t \"2000\"\n",
      "2001 \t \"2001\"\n",
      "2002 \t \"2002\"\n",
      "2003 \t \"2003\"\n",
      "2004 \t \"2004\"\n",
      "2005 \t \"2005\"\n",
      "2006 \t \"2006\"\n",
      "2007 \t \"2007\"\n",
      "2008 \t \"2008\"\n",
      "2009 \t \"2009\"\n",
      "2010 \t \"2010\"\n",
      "2011 \t \"2011\"\n",
      "2012 \t \"2012\"\n",
      "2013 \t \"2013\"\n",
      "2014 \t \"2014\"\n",
      "2015 \t \"2015\"\n",
      "2016 \t \"2016\"\n",
      "2017 \t \"2017\"\n",
      "2018 \t \"2018\"\n",
      "2019 \t \"2019\"\n",
      "2020 \t \"2020\"\n"
     ]
    }
   ],
   "source": [
    "GU[:yr]"
   ]
  },
  {
   "cell_type": "code",
   "execution_count": null,
   "metadata": {},
   "outputs": [],
   "source": []
  }
 ],
 "metadata": {
  "kernelspec": {
   "display_name": "Julia 1.8.0",
   "language": "julia",
   "name": "julia-1.8"
  },
  "language_info": {
   "file_extension": ".jl",
   "mimetype": "application/julia",
   "name": "julia",
   "version": "1.8.0"
  },
  "orig_nbformat": 4,
  "vscode": {
   "interpreter": {
    "hash": "97ca4dee54279187ef4a8d56c9eb9d5b4ef9be57fe509410e67403912bb93d93"
   }
  }
 },
 "nbformat": 4,
 "nbformat_minor": 2
}
