{
 "cells": [
  {
   "cell_type": "code",
   "execution_count": 30,
   "metadata": {},
   "outputs": [],
   "source": [
    "using GamsStructure\n",
    "using CSV"
   ]
  },
  {
   "cell_type": "code",
   "execution_count": 31,
   "metadata": {},
   "outputs": [],
   "source": [
    "set_dir = \"base_data_2017/set\"\n",
    "parm_dir = \"base_data_2017/parameter\"\n",
    "\n",
    "GU = GamsUniverse()\n",
    "\n",
    "\n",
    "@GamsSets(GU,set_dir,begin\n",
    "    :sr, \"Super Regions in WiNDC Database\"\n",
    "    :r, \"Regions in WiNDC Database\"\n",
    "    #:yr, \"Years in WiNDC Database\"\n",
    "    :i, \"BEA Goods and sectors categories\"\n",
    "end)\n",
    "\n",
    "alias(GU,:i,:s)\n",
    "\n",
    "@GamsDomainSets(GU,parm_dir,begin\n",
    "    :n, :usatrd_units, 2,\"Dynamically created set from parameter usatrd, NAICS codes\"\n",
    "    :yr, :usatrd_units,   3, \"Dynamically created set from parameter usatrd_units, Years in USA trade data set (2002-2016)\"\n",
    "    :t, :usatrd_units, 4, \"Dynamically create set from parameter usatrd, Trade type (import/export)\"\n",
    "    :usa_units_domain, :usatrd_units, 5, \"Dynamically create set from parameter usatrd, Units\"\n",
    "end)\n",
    "\n",
    "@GamsParameters(GU,parm_dir,begin\n",
    "    :usatrd_units, (:sr,:n,:yr,:t,:usa_units_domain), \"Trade data with units as domain\", [1,2,3,4,5]\n",
    "end)\n",
    "\n",
    "@GamsParameters(GU,begin\n",
    "    :usatrd,    (:yr,:r,:i,:t), \"Mapped trade data\" #\"Trade data without units\"\n",
    "    #:usatrd_,   (:yr,:r,:i,:t), \"Mapped trade data\"\n",
    "    :usatrd_shr,(:yr,:r,:i,:t), \"Share of total trade by region\"\n",
    "    :shrchk,    (:s,:t), \"Comparison between imports and exports\"\n",
    "end)\n",
    "\n",
    "1;"
   ]
  },
  {
   "cell_type": "code",
   "execution_count": 32,
   "metadata": {},
   "outputs": [],
   "source": [
    "function load_usatrd_map(;map_file =\"maps/mapusatrd.csv\" )\n",
    "\n",
    "    mappce = Dict()\n",
    "    F = CSV.File(map_file,stringtype=String,\n",
    "                silencewarnings=true,header = [:a,:b,:c])\n",
    "\n",
    "    for row in F\n",
    "        val = Symbol(row[1])\n",
    "        key = Symbol(string(row[2]))\n",
    "        if val ∈ keys(mappce)\n",
    "            push!(mappce[val],key)\n",
    "        else\n",
    "            mappce[val] = [key]\n",
    "        end\n",
    "    end\n",
    "    return mappce\n",
    "end\n",
    "\n",
    "usatrd_map = load_usatrd_map();"
   ]
  },
  {
   "cell_type": "code",
   "execution_count": 46,
   "metadata": {},
   "outputs": [],
   "source": [
    "\"Scale originally millions. Make billions\"\n",
    "for i∈keys(usatrd_map)\n",
    "    if length(usatrd_map[i])==1\n",
    "        GU[:usatrd][:yr,:r,[i],:t] = permutedims(GU[:usatrd_units][:r,usatrd_map[i],:yr,:t,:],(2,1,3))*1e-3\n",
    "    else\n",
    "        GU[:usatrd][:yr,:r,[i],:t] = permutedims(sum(GU[:usatrd_units][:r,usatrd_map[i],:yr,:t,:],dims=2),(3,1,2,4))*1e-3\n",
    "    end\n",
    "end"
   ]
  },
  {
   "cell_type": "code",
   "execution_count": 40,
   "metadata": {},
   "outputs": [
    {
     "data": {
      "text/plain": [
       "51×1×2 Array{Float64, 3}:\n",
       "[:, :, 1] =\n",
       "  481.655625\n",
       " 3265.206346\n",
       " 2971.904871\n",
       " 2479.9923279999994\n",
       " 3665.5237700000002\n",
       " 5341.861161000001\n",
       "  150.043202\n",
       "    2.8451869999999997\n",
       "  262.63042699999994\n",
       "  677.386696\n",
       "    ⋮\n",
       "  258.032477\n",
       "   51.706961\n",
       " 9077.678147999999\n",
       "  402.45441500000004\n",
       "   19.069933999999996\n",
       "  140.28420199999996\n",
       " 5266.460017\n",
       "    4.521772\n",
       "  804.4417990000001\n",
       "\n",
       "[:, :, 2] =\n",
       "  146.08419199999997\n",
       " 1453.951574\n",
       " 1075.051151\n",
       " 1169.320544\n",
       " 1654.3994429999998\n",
       "  973.3338419999999\n",
       "  219.02343699999997\n",
       "   13.575931999999998\n",
       "   32.858869\n",
       "  239.73001299999999\n",
       "    ⋮\n",
       "  226.87699499999997\n",
       "   26.669938\n",
       " 3310.798842\n",
       "  247.853931\n",
       "   18.960461\n",
       "  117.18408\n",
       " 2339.376111\n",
       "   14.165572\n",
       "  300.23561199999995"
      ]
     },
     "metadata": {},
     "output_type": "display_data"
    }
   ],
   "source": [
    "sum(GU[:usatrd_units][:r,usatrd_map[:pri],:yr,:t,:],dims=2)"
   ]
  },
  {
   "cell_type": "code",
   "execution_count": 20,
   "metadata": {},
   "outputs": [
    {
     "data": {
      "text/plain": [
       "1"
      ]
     },
     "metadata": {},
     "output_type": "display_data"
    }
   ],
   "source": [
    "length(GU[:usa_units_domain])"
   ]
  },
  {
   "cell_type": "code",
   "execution_count": null,
   "metadata": {},
   "outputs": [],
   "source": []
  }
 ],
 "metadata": {
  "kernelspec": {
   "display_name": "Julia 1.8.0",
   "language": "julia",
   "name": "julia-1.8"
  },
  "language_info": {
   "file_extension": ".jl",
   "mimetype": "application/julia",
   "name": "julia",
   "version": "1.8.0"
  },
  "orig_nbformat": 4,
  "vscode": {
   "interpreter": {
    "hash": "ac97efbb835636f86a63c8ea0f697df920e29bf5635b42fc776c23a62298ea01"
   }
  }
 },
 "nbformat": 4,
 "nbformat_minor": 2
}
