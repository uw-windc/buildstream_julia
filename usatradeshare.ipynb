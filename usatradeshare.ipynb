{
 "cells": [
  {
   "cell_type": "code",
   "execution_count": 30,
   "metadata": {},
   "outputs": [],
   "source": [
    "using GamsStructure\n",
    "using CSV"
   ]
  },
  {
   "cell_type": "code",
   "execution_count": 31,
   "metadata": {},
   "outputs": [],
   "source": [
    "set_dir = \"base_data_2017/set\"\n",
    "parm_dir = \"base_data_2017/parameter\"\n",
    "\n",
    "GU = GamsUniverse()\n",
    "\n",
    "\n",
    "@GamsSets(GU,set_dir,begin\n",
    "    :sr, \"Super Regions in WiNDC Database\"\n",
    "    :r, \"Regions in WiNDC Database\"\n",
    "    #:yr, \"Years in WiNDC Database\"\n",
    "    :i, \"BEA Goods and sectors categories\"\n",
    "end)\n",
    "\n",
    "alias(GU,:i,:s)\n",
    "\n",
    "@GamsDomainSets(GU,parm_dir,begin\n",
    "    :n, :usatrd_units, 2,\"Dynamically created set from parameter usatrd, NAICS codes\"\n",
    "    :yr, :usatrd_units,   3, \"Dynamically created set from parameter usatrd_units, Years in USA trade data set (2002-2016)\"\n",
    "    :t, :usatrd_units, 4, \"Dynamically create set from parameter usatrd, Trade type (import/export)\"\n",
    "    :usa_units_domain, :usatrd_units, 5, \"Dynamically create set from parameter usatrd, Units\"\n",
    "end)\n",
    "\n",
    "@GamsParameters(GU,parm_dir,begin\n",
    "    :usatrd_units, (:sr,:n,:yr,:t,:usa_units_domain), \"Trade data with units as domain\", [1,2,3,4,5]\n",
    "end)\n",
    "\n",
    "@GamsParameters(GU,begin\n",
    "    :usatrd,    (:yr,:r,:i,:t), \"Mapped trade data\" #\"Trade data without units\"\n",
    "    #:usatrd_,   (:yr,:r,:i,:t), \"Mapped trade data\"\n",
    "    :usatrd_shr,(:yr,:r,:i,:t), \"Share of total trade by region\"\n",
    "    :shrchk,    (:s,:t), \"Comparison between imports and exports\"\n",
    "end)\n",
    "\n",
    "1;"
   ]
  },
  {
   "cell_type": "code",
   "execution_count": 32,
   "metadata": {},
   "outputs": [],
   "source": [
    "function load_usatrd_map(;map_file =\"maps/mapusatrd.csv\" )\n",
    "\n",
    "    mappce = Dict()\n",
    "    F = CSV.File(map_file,stringtype=String,\n",
    "                silencewarnings=true,header = [:a,:b,:c])\n",
    "\n",
    "    for row in F\n",
    "        val = Symbol(row[1])\n",
    "        key = Symbol(string(row[2]))\n",
    "        if val ∈ keys(mappce)\n",
    "            push!(mappce[val],key)\n",
    "        else\n",
    "            mappce[val] = [key]\n",
    "        end\n",
    "    end\n",
    "    return mappce\n",
    "end\n",
    "\n",
    "usatrd_map = load_usatrd_map();"
   ]
  },
  {
   "cell_type": "code",
   "execution_count": 48,
   "metadata": {},
   "outputs": [],
   "source": [
    "\"Scale originally millions. Make billions\"\n",
    "\n",
    "for i∈keys(usatrd_map)\n",
    "    if length(usatrd_map[i])==1\n",
    "        GU[:usatrd][:yr,:r,[i],:t] = permutedims(GU[:usatrd_units][:r,usatrd_map[i],:yr,:t,:],(2,1,3))*1e-3\n",
    "    else\n",
    "        GU[:usatrd][:yr,:r,[i],:t] = permutedims(sum(GU[:usatrd_units][:r,usatrd_map[i],:yr,:t,:],dims=2),(3,1,2,4))*1e-3\n",
    "    end\n",
    "end"
   ]
  },
  {
   "cell_type": "code",
   "execution_count": 54,
   "metadata": {},
   "outputs": [],
   "source": [
    "notinc = [s for s∈GU[:i] if s∉keys(usatrd_map)]\n",
    "inc = [s for s∈GU[:i] if s∈keys(usatrd_map)]\n",
    "\n",
    "#for r∈GU[:r]\n",
    "#    mask = sum(GU[:usatrd][:yr,:r,inc,:t],dims=2)!=0\n",
    "\n",
    "\n",
    "#GU[:usatrd_shr][:yr,:r,:s,:t]\n",
    "\n",
    "1;"
   ]
  },
  {
   "cell_type": "code",
   "execution_count": 50,
   "metadata": {},
   "outputs": [],
   "source": [
    "usatrd_shr(yr,r,s,t)$(NOT notinc(s) and sum(r.local, usatrd_(yr,r,s,t))) = usatrd_(yr,r,s,t) / sum(r.local, usatrd_(yr,r,s,t));\n"
   ]
  },
  {
   "cell_type": "code",
   "execution_count": 56,
   "metadata": {},
   "outputs": [
    {
     "data": {
      "text/plain": [
       "16×1×2 BitArray{3}:\n",
       "[:, :, 1] =\n",
       " 1\n",
       " 1\n",
       " 1\n",
       " 1\n",
       " 1\n",
       " 1\n",
       " 1\n",
       " 1\n",
       " 1\n",
       " 1\n",
       " 1\n",
       " 1\n",
       " 1\n",
       " 1\n",
       " 1\n",
       " 1\n",
       "\n",
       "[:, :, 2] =\n",
       " 1\n",
       " 1\n",
       " 0\n",
       " 0\n",
       " 1\n",
       " 1\n",
       " 1\n",
       " 0\n",
       " 1\n",
       " 1\n",
       " 1\n",
       " 0\n",
       " 0\n",
       " 1\n",
       " 0\n",
       " 1"
      ]
     },
     "metadata": {},
     "output_type": "display_data"
    }
   ],
   "source": [
    "mask = sum(GU[:usatrd][:yr,[:IA],inc,:t],dims=2).!=0"
   ]
  }
 ],
 "metadata": {
  "kernelspec": {
   "display_name": "Julia 1.8.0",
   "language": "julia",
   "name": "julia-1.8"
  },
  "language_info": {
   "file_extension": ".jl",
   "mimetype": "application/julia",
   "name": "julia",
   "version": "1.8.0"
  },
  "orig_nbformat": 4,
  "vscode": {
   "interpreter": {
    "hash": "ac97efbb835636f86a63c8ea0f697df920e29bf5635b42fc776c23a62298ea01"
   }
  }
 },
 "nbformat": 4,
 "nbformat_minor": 2
}
