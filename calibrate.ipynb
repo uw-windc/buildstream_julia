{
 "cells": [
  {
   "cell_type": "code",
   "execution_count": 1,
   "metadata": {},
   "outputs": [
    {
     "data": {
      "text/plain": [
       "calibrate_market_clearance (generic function with 1 method)"
      ]
     },
     "metadata": {},
     "output_type": "display_data"
    }
   ],
   "source": [
    "include(\"PartitionBEA.jl\")\n",
    "include(\"calibrate.jl\")"
   ]
  },
  {
   "cell_type": "code",
   "execution_count": 2,
   "metadata": {},
   "outputs": [
    {
     "name": "stdout",
     "output_type": "stream",
     "text": [
      "\n",
      "******************************************************************************\n",
      "This program contains Ipopt, a library for large-scale nonlinear optimization.\n",
      " Ipopt is released as open source code under the Eclipse Public License (EPL).\n",
      "         For more information visit https://github.com/coin-or/Ipopt\n",
      "******************************************************************************\n",
      "\n"
     ]
    },
    {
     "data": {
      "text/plain": []
     },
     "metadata": {},
     "output_type": "display_data"
    },
    {
     "name": "stdout",
     "output_type": "stream",
     "text": [
      "Sets\n",
      "\n",
      "j => BEA Goods and sectors categories => Aliases: [:j, :i]\n",
      "fd => BEA Final demand categories => Aliases: [:othfd]\n",
      "ir_supply => Domain of second column of supply_units\n",
      "jc_supply => Domain of third column of supply_units\n",
      "ts => BEA Taxes and subsidies categories\n",
      "ir_use => Domain of second column of use_units\n",
      "yr => Years in dataset\n",
      "othfd => BEA Final demand categories => Aliases: [:fd]\n",
      "jc_use => Domain of third column of use_units\n",
      "va => BEA Value added categories\n",
      "m => Margins\n",
      "pce => PCE category of fd\n",
      "i => BEA Goods and sectors categories => Aliases: [:j, :j]\n",
      "imrg => Goods which only generate margins\n",
      "\n",
      "Parameters\n",
      "\n",
      "m_shr => (:i,) => Average shares of imports\n",
      "ys_0 => (:yr, :j, :i) => Sectoral supply\n",
      "s_0 => (:yr, :i) => Aggegrate Supply\n",
      "x0 => (:i,) => Exports of goods and services\n",
      "tax0 => (:i,) => Taxes on products\n",
      "fd0 => (:i, :fd) => Final demand\n",
      "duty0 => (:i,) => Import duties\n",
      "ts0 => (:ts, :i) => Taxes and subsidies\n",
      "sbd_0 => (:yr, :i) => Subsidies on products\n",
      "sbd0 => (:i,) => Subsidies on products\n",
      "ty0 => (:j,) => Output tax rate (OTHTAX)\n",
      "ts_0 => (:yr, :ts, :j) => Taxes and subsidies\n",
      "a_0 => (:yr, :i) => Armington supply\n",
      "s0 => (:i,) => Aggregate supply\n",
      "d_0 => (:yr, :i) => Sales in the domestic market\n",
      "x_0 => (:yr, :i) => Exports of goods and services\n",
      "ty_values => (:yr, :j) => Output tax values\n",
      "y0 => (:i,) => Gross output\n",
      "va0 => (:va, :j) => Vaue added\n",
      "mrg0 => (:i,) => Trade margins\n",
      "fs0 => (:i,) => Household supply\n",
      "md_0 => (:yr, :m, :i) => Margin demand\n",
      "fd_0 => (:yr, :i, :fd) => Final demand,\n",
      "ty_0 => (:yr, :j) => Output tax rate\n",
      "a0 => (:i,) => Armington supply\n",
      "id_0 => (:yr, :i, :j) => Intermediate demand\n",
      "m0 => (:i,) => Imports\n",
      "tm0 => (:i,) => Import tariff\n",
      "ms_0 => (:yr, :i, :m) => Margin supply\n",
      "fs_0 => (:yr, :i) => Household supply\n",
      "duty_0 => (:yr, :i) => Import duties\n",
      "ys0 => (:j, :i) => Sectoral supply\n",
      "id0 => (:i, :j) => Intermediate demand\n",
      "bopdef_0 => (:yr,) => Balance of payments deficit\n",
      "bopdef => (:yr,) => Balance of payments deficit\n",
      "y_0 => (:yr, :i) => Gross output\n",
      "supply => (:yr, :ir_supply, :jc_supply) => Annual supply matrix with units domain\n",
      "d0 => (:i,) => Sales in the domestic market\n",
      "md0 => (:m, :i) => Margin demand\n",
      "trn0 => (:i,) => Transportation costs\n",
      "ta0 => (:i,) => Tax net subsidy rate on intermediate demand\n",
      "use => (:yr, :ir_use, :jc_use) => Annual use matrix with units domain\n",
      "trn_0 => (:yr, :i) => Transportation costs\n",
      "ms0 => (:i, :m) => Margin supply\n",
      "tm_0 => (:yr, :i) => Tax net subsidy rate on intermediate demand\n",
      "va_0 => (:yr, :va, :j) => Value added\n",
      "m_0 => (:yr, :i) => Imports\n",
      "mrg_0 => (:yr, :i) => Trade margins\n",
      "cif0 => (:yr, :i) => CIF/FOB Adjustments on Imports\n",
      "va_shr => (:j, :va) => average shares of GDP\n",
      "ta_0 => (:yr, :i) => Import tariff\n",
      "tax_0 => (:yr, :i) => Taxes on products\n",
      "\n",
      "Scalars\n",
      "\n"
     ]
    }
   ],
   "source": [
    "GU = PartitionBEA(input_dir = \"data_2017/nationalmodel_raw_data\")\n",
    "calibrate(GU;output_dir = \"data_2017/nationaldata_ls_julia\")"
   ]
  },
  {
   "cell_type": "code",
   "execution_count": null,
   "metadata": {},
   "outputs": [],
   "source": []
  }
 ],
 "metadata": {
  "kernelspec": {
   "display_name": "Julia 1.8.0",
   "language": "julia",
   "name": "julia-1.8"
  },
  "language_info": {
   "file_extension": ".jl",
   "mimetype": "application/julia",
   "name": "julia",
   "version": "1.8.0"
  },
  "orig_nbformat": 4,
  "vscode": {
   "interpreter": {
    "hash": "ac97efbb835636f86a63c8ea0f697df920e29bf5635b42fc776c23a62298ea01"
   }
  }
 },
 "nbformat": 4,
 "nbformat_minor": 2
}
