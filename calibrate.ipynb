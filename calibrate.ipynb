{
 "cells": [
  {
   "cell_type": "code",
   "execution_count": 1,
   "metadata": {},
   "outputs": [
    {
     "data": {
      "text/plain": [
       "calibrate_market_clearance (generic function with 1 method)"
      ]
     },
     "metadata": {},
     "output_type": "display_data"
    }
   ],
   "source": [
    "include(\"PartitionBEA.jl\")\n",
    "include(\"calibrate.jl\")"
   ]
  },
  {
   "cell_type": "code",
   "execution_count": 2,
   "metadata": {},
   "outputs": [
    {
     "name": "stdout",
     "output_type": "stream",
     "text": [
      "\n",
      "******************************************************************************\n",
      "This program contains Ipopt, a library for large-scale nonlinear optimization.\n",
      " Ipopt is released as open source code under the Eclipse Public License (EPL).\n",
      "         For more information visit https://github.com/coin-or/Ipopt\n",
      "******************************************************************************\n",
      "\n"
     ]
    },
    {
     "data": {
      "text/plain": []
     },
     "metadata": {},
     "output_type": "display_data"
    },
    {
     "name": "stdout",
     "output_type": "stream",
     "text": [
      "Sets\n",
      "\n",
      "j => BEA Goods and sectors categories => Aliases: [:j, :i]\n",
      "fd => BEA Final demand categories => Aliases: [:othfd]\n",
      "ir_supply => Domain of second column of supply_units\n",
      "jc_supply => Domain of third column of supply_units\n",
      "ts => BEA Taxes and subsidies categories\n",
      "ir_use => Domain of second column of use_units\n",
      "yr => Years in dataset\n",
      "othfd => BEA Final demand categories => Aliases: [:fd]\n",
      "jc_use => Domain of third column of use_units\n",
      "va => BEA Value added categories\n",
      "m => Margins\n",
      "pce => PCE category of fd\n",
      "i => BEA Goods and sectors categories => Aliases: [:j, :j]\n",
      "imrg => Goods which only generate margins\n",
      "\n",
      "Parameters\n",
      "\n",
      "m_shr => (:i,) => Average shares of imports\n",
      "ys_0 => (:yr, :j, :i) => Sectoral supply\n",
      "s_0 => (:yr, :i) => Aggegrate Supply\n",
      "x0 => (:i,) => Exports of goods and services\n",
      "tax0 => (:i,) => Taxes on products\n",
      "fd0 => (:i, :fd) => Final demand\n",
      "duty0 => (:i,) => Import duties\n",
      "ts0 => (:ts, :i) => Taxes and subsidies\n",
      "sbd_0 => (:yr, :i) => Subsidies on products\n",
      "sbd0 => (:i,) => Subsidies on products\n",
      "ty0 => (:j,) => Output tax rate (OTHTAX)\n",
      "ts_0 => (:yr, :ts, :j) => Taxes and subsidies\n",
      "a_0 => (:yr, :i) => Armington supply\n",
      "s0 => (:i,) => Aggregate supply\n",
      "d_0 => (:yr, :i) => Sales in the domestic market\n",
      "x_0 => (:yr, :i) => Exports of goods and services\n",
      "ty_values => (:yr, :j) => Output tax values\n",
      "y0 => (:i,) => Gross output\n",
      "va0 => (:va, :j) => Vaue added\n",
      "mrg0 => (:i,) => Trade margins\n",
      "fs0 => (:i,) => Household supply\n",
      "md_0 => (:yr, :m, :i) => Margin demand\n",
      "fd_0 => (:yr, :i, :fd) => Final demand,\n",
      "ty_0 => (:yr, :j) => Output tax rate\n",
      "a0 => (:i,) => Armington supply\n",
      "id_0 => (:yr, :i, :j) => Intermediate demand\n",
      "m0 => (:i,) => Imports\n",
      "tm0 => (:i,) => Import tariff\n",
      "ms_0 => (:yr, :i, :m) => Margin supply\n",
      "fs_0 => (:yr, :i) => Household supply\n",
      "duty_0 => (:yr, :i) => Import duties\n",
      "ys0 => (:j, :i) => Sectoral supply\n",
      "id0 => (:i, :j) => Intermediate demand\n",
      "bopdef_0 => (:yr,) => Balance of payments deficit\n",
      "bopdef => (:yr,) => Balance of payments deficit\n",
      "y_0 => (:yr, :i) => Gross output\n",
      "supply => (:yr, :ir_supply, :jc_supply) => Annual supply matrix with units domain\n",
      "d0 => (:i,) => Sales in the domestic market\n",
      "md0 => (:m, :i) => Margin demand\n",
      "trn0 => (:i,) => Transportation costs\n",
      "ta0 => (:i,) => Tax net subsidy rate on intermediate demand\n",
      "use => (:yr, :ir_use, :jc_use) => Annual use matrix with units domain\n",
      "trn_0 => (:yr, :i) => Transportation costs\n",
      "ms0 => (:i, :m) => Margin supply\n",
      "tm_0 => (:yr, :i) => Tax net subsidy rate on intermediate demand\n",
      "va_0 => (:yr, :va, :j) => Value added\n",
      "m_0 => (:yr, :i) => Imports\n",
      "mrg_0 => (:yr, :i) => Trade margins\n",
      "cif0 => (:yr, :i) => CIF/FOB Adjustments on Imports\n",
      "va_shr => (:j, :va) => average shares of GDP\n",
      "ta_0 => (:yr, :i) => Import tariff\n",
      "tax_0 => (:yr, :i) => Taxes on products\n"
     ]
    }
   ],
   "source": [
    "#P = PartitionBEA(input_dir = \"data_2017/nationalmodel_raw_data\")\n",
    "GU = PartitionBEA(input_dir = \"data_2017/nationalmodel_raw_data\")\n",
    "calibrate(GU)#;output_dir = \"data_2017/nationaldata_ls_julia\")"
   ]
  },
  {
   "cell_type": "code",
   "execution_count": 22,
   "metadata": {},
   "outputs": [
    {
     "data": {
      "text/plain": []
     },
     "metadata": {},
     "output_type": "display_data"
    },
    {
     "name": "stdout",
     "output_type": "stream",
     "text": [
      "Description: Output tax rate (OTHTAX)\n",
      "Domain: (:j,)\n",
      "\n",
      "[0.009463681585603305, 0.007979010171440896, 0.006274629271120982, 0.008540319006631403, 0.006572693205018631, 0.02088214460851088, 0.005006066691770219, 0.019920627405067108, 0.008554203780143385, 0.0, 0.0, 0.006831071617184451, 0.11549515818394859, 0.012959532630379026, 0.008015349931340298, 0.007718528386161499, 0.0035368197244142778, 0.0, 0.033866422318186956, 0.009054283290924512, 0.009607696310492315, 0.015592408773862304, 0.02521292299069224, 0.022930814530366092, 0.008223167160277305, 0.01811324250975729, 0.008793509354676581, 0.011380207978411676, 0.022158239213998437, 0.04713274014890139, 0.015482965257595006, 0.02090155094998138, 0.00635776559860129, 0.01325478645066274, 0.010317303415212769, 0.006613467424573678, 0.013143046797212081, 0.010953112990007686, 0.016680202411444994, 0.022151162790697676, 0.0036675653114009283, 0.0, 0.0059717854773101, 0.0276613265458901, 0.042533457002782556, 0.0, 0.012913690025556675, 0.014358670712752571, 0.022303664921465967, 0.007062971212139258, 0.006946738611753479, 0.011552945682006766, 0.011212542815166147, 0.02111689159355743, 0.004587015754357774, 0.0046149963344430155, 0.006110176123146848, 0.004645701449867265, 0.012582912801075388, 0.009308216561790072, 0.0, 0.015541446838951981, 0.018197253801860325, 0.005051539354222131, 0.0094792478751765, 0.0, 0.008898316758037412, 0.013351893288928206, 0.013044228472317147, 0.023027811789400037, 0.008753048011435297, 0.01380677126341866, 0.02485473289597001]"
     ]
    }
   ],
   "source": [
    "GU[:ty0]"
   ]
  },
  {
   "cell_type": "code",
   "execution_count": 21,
   "metadata": {},
   "outputs": [
    {
     "name": "stdout",
     "output_type": "stream",
     "text": [
      "Description: Tax net subsidy rate on intermediate demand\n",
      "Domain: (:i,)\n",
      "\n"
     ]
    },
    {
     "data": {
      "text/plain": []
     },
     "metadata": {},
     "output_type": "display_data"
    },
    {
     "name": "stdout",
     "output_type": "stream",
     "text": [
      "[0.011272217761614634, 0.058948358127641626, 0.005616154146381545, 0.0005125818216097426, 0.05631598149869949, 0.03158132190390255, 0.0008730423910583213, -0.06441491880030362, 0.026948551704836978, 0.0, 0.0, 0.018623044756846188, -0.019531062715521217, 0.0, 0.019889216774987055, 0.03430949880069606, 0.025585475627431534, 0.0, 0.026007346686107276, 0.02155831050886549, 0.057650112517891455, 4.448477730920483e-6, -0.0036557796813815263, 0.0005802591459242269, 0.008830108708449433, 0.002072912081315778, 0.022872021187971586, 0.007298512112266545, 0.07061658697697641, 0.025294659538015164, 0.0015424741927794789, 0.026239587088939073, 0.02119377550562806, 0.008061870975538179, 0.0, 0.003085878464305873, 0.005255673549492312, 0.0032736722846384765, 0.03823797278474231, 0.017455232131184585, 0.03996942229987987, 0.0, 0.008012963790791236, 0.002618759327570186, 0.10391822827938671, 0.0, 0.018899915753108922, -0.14926999346262806, 0.0, 0.01390212530573346, 0.1913493653159758, 0.0, 0.014263841440177526, 0.009430729821011927, 0.0177679853756972, 0.006614029119934076, 0.0029635723174924597, 0.05577889777871355, 0.005088653047348908, 0.007598784194528875, 0.0, 0.0, -0.006736408305595183, 0.017594333506224073, 9.058107761288666e-5, 0.0, 0.00035239902412577943, 0.0, 0.01832194646905765, 0.03761448647136965, 0.03479038308293328, 0.0018577709993023216, 0.032697887741412135]"
     ]
    }
   ],
   "source": [
    "GU[:ta0]"
   ]
  }
 ],
 "metadata": {
  "kernelspec": {
   "display_name": "Julia 1.8.0",
   "language": "julia",
   "name": "julia-1.8"
  },
  "language_info": {
   "file_extension": ".jl",
   "mimetype": "application/julia",
   "name": "julia",
   "version": "1.8.0"
  },
  "orig_nbformat": 4,
  "vscode": {
   "interpreter": {
    "hash": "ac97efbb835636f86a63c8ea0f697df920e29bf5635b42fc776c23a62298ea01"
   }
  }
 },
 "nbformat": 4,
 "nbformat_minor": 2
}
