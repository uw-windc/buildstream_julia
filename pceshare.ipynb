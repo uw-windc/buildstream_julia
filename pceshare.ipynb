{
 "cells": [
  {
   "cell_type": "code",
   "execution_count": 3,
   "metadata": {},
   "outputs": [],
   "source": [
    "using GamsStructure\n",
    "using CSV"
   ]
  },
  {
   "cell_type": "code",
   "execution_count": 4,
   "metadata": {},
   "outputs": [
    {
     "data": {
      "text/plain": []
     },
     "metadata": {},
     "output_type": "display_data"
    },
    {
     "name": "stdout",
     "output_type": "stream",
     "text": [
      "Sets\n",
      "\n",
      "pce_units_domain => PCE units\n",
      "pg => Dynamically created set from parameter pce_units, PCE goods\n",
      "yr => Years in WiNDC Database\n",
      "g => BEA Goods and sectors categories => Aliases: [:i]\n",
      "r => Regions in WiNDC Database\n",
      "sr => Super Regions in WiNDC Database\n",
      "i => BEA Goods and sectors categories => Aliases: [:g]\n",
      "\n",
      "Parameters\n",
      "\n",
      "pce_map_agr => (:yr, :r, :i) => mapped PCE data\n",
      "pce_units => (:yr, :sr, :pg, :pce_units_domain) => Personal expenditure data with units as domain\n",
      "pce_shr => (:yr, :r, :i) => Regional shares of final consumption\n",
      "\n",
      "Scalars\n",
      "\n"
     ]
    }
   ],
   "source": [
    "include(\"pceshare.jl\")\n",
    "\n",
    "GU = pceshare(output_path = \"data/shares_pce\")"
   ]
  }
 ],
 "metadata": {
  "kernelspec": {
   "display_name": "Julia 1.8.0",
   "language": "julia",
   "name": "julia-1.8"
  },
  "language_info": {
   "file_extension": ".jl",
   "mimetype": "application/julia",
   "name": "julia",
   "version": "1.8.0"
  },
  "orig_nbformat": 4,
  "vscode": {
   "interpreter": {
    "hash": "ac97efbb835636f86a63c8ea0f697df920e29bf5635b42fc776c23a62298ea01"
   }
  }
 },
 "nbformat": 4,
 "nbformat_minor": 2
}
