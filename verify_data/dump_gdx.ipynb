{
 "cells": [
  {
   "cell_type": "code",
   "execution_count": 16,
   "metadata": {},
   "outputs": [],
   "source": [
    "import gamstransfer as gt\n",
    "import os\n",
    "\n",
    "\n",
    "in_file = \"../data/shares_gsp.gdx\"\n",
    "out_file = \"../data/shares_gsp_gams\""
   ]
  },
  {
   "cell_type": "code",
   "execution_count": 17,
   "metadata": {},
   "outputs": [],
   "source": [
    "if not os.path.exists(out_file):\n",
    "    os.mkdir(out_file)\n",
    "    \n",
    "if not os.path.exists(os.path.join(out_file,\"sets\")):\n",
    "    os.mkdir(os.path.join(out_file,\"sets\"))\n",
    "\n",
    "if not os.path.exists(os.path.join(out_file,\"parameters\")):\n",
    "    os.mkdir(os.path.join(out_file,\"parameters\"))"
   ]
  },
  {
   "cell_type": "code",
   "execution_count": 18,
   "metadata": {},
   "outputs": [
    {
     "name": "stdout",
     "output_type": "stream",
     "text": [
      "--- Warning: The GAMS version (41.1.0) differs from the API version (41.0.0).\n",
      "--- Warning: The GAMS version (41.1.0) differs from the API version (41.0.0).\n"
     ]
    }
   ],
   "source": [
    "w = gt.Container(in_file)\n",
    "\n",
    "out = {}\n",
    "\n",
    "for key in w.data:\n",
    "    G = w[key]\n",
    "    dir = \"parameters\"\n",
    "    if type(G) == gt.Set:\n",
    "        dir = \"sets\"\n",
    "    df = G.records\n",
    "    if df is not None:\n",
    "        if type(G) == gt.Parameter:\n",
    "            cols = df.columns\n",
    "            cols = [e.split(\"_\")[0] for e in cols]\n",
    "            df.columns = cols\n",
    "            out[key] = df\n",
    "        df.to_csv(os.path.join(out_file,dir,f\"{key}.csv\"),index=False)\n",
    "    else:\n",
    "        print(key)"
   ]
  },
  {
   "cell_type": "code",
   "execution_count": 13,
   "metadata": {},
   "outputs": [
    {
     "data": {
      "text/plain": [
       "dict_items([('region_shr', <gamstransfer.Parameter object at 0x0000022A38E11CA0>), ('labor_shr', <gamstransfer.Parameter object at 0x0000022A38E11520>)])"
      ]
     },
     "execution_count": 13,
     "metadata": {},
     "output_type": "execute_result"
    }
   ],
   "source": [
    "w.data.items()"
   ]
  },
  {
   "cell_type": "code",
   "execution_count": 8,
   "metadata": {},
   "outputs": [
    {
     "name": "stdout",
     "output_type": "stream",
     "text": [
      "lkej\n"
     ]
    }
   ],
   "source": [
    "if type(w[\"region_shr\"]) == gt.Parameter:\n",
    "    print(\"lkej\")\n"
   ]
  },
  {
   "cell_type": "code",
   "execution_count": null,
   "metadata": {},
   "outputs": [],
   "source": []
  }
 ],
 "metadata": {
  "kernelspec": {
   "display_name": "gams41",
   "language": "python",
   "name": "python3"
  },
  "language_info": {
   "codemirror_mode": {
    "name": "ipython",
    "version": 3
   },
   "file_extension": ".py",
   "mimetype": "text/x-python",
   "name": "python",
   "nbconvert_exporter": "python",
   "pygments_lexer": "ipython3",
   "version": "3.9.13"
  },
  "orig_nbformat": 4,
  "vscode": {
   "interpreter": {
    "hash": "2d8148a8a31ef43057a38d74919842836b9e63bf1d1d4aa18fbf63959bc65a17"
   }
  }
 },
 "nbformat": 4,
 "nbformat_minor": 2
}
