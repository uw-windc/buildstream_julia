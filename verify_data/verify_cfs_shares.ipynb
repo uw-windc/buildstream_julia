{
 "cells": [
  {
   "cell_type": "code",
   "execution_count": 17,
   "metadata": {},
   "outputs": [],
   "source": [
    "include(\"verify_data.jl\")\n",
    "\n",
    "using GamsStructure"
   ]
  },
  {
   "cell_type": "code",
   "execution_count": 18,
   "metadata": {},
   "outputs": [],
   "source": [
    "GU = load_universe(\"../data/cfs_rpcs\");"
   ]
  },
  {
   "cell_type": "code",
   "execution_count": 19,
   "metadata": {},
   "outputs": [],
   "source": [
    "gams_GU = GamsUniverse()\n",
    "\n",
    "@GamsSets(gams_GU,\"../data/cfs_rpcs_gams/sets\",begin\n",
    "    :i, \"\"\n",
    "    :r, \"\"\n",
    "end)\n",
    "\n",
    "\n",
    "@GamsParameters(gams_GU,\"../data/cfs_rpcs_gams/parameters\",begin\n",
    "    :rpc, (:r,:i), \"\", [1,2]\n",
    "end);"
   ]
  },
  {
   "cell_type": "code",
   "execution_count": 24,
   "metadata": {},
   "outputs": [
    {
     "data": {
      "text/plain": [
       "Dict{Any, Any}()"
      ]
     },
     "metadata": {},
     "output_type": "display_data"
    }
   ],
   "source": [
    "wrong = wrong_entries(GU,gams_GU,atol = 1e-15)"
   ]
  }
 ],
 "metadata": {
  "kernelspec": {
   "display_name": "Julia 1.8.0",
   "language": "julia",
   "name": "julia-1.8"
  },
  "language_info": {
   "file_extension": ".jl",
   "mimetype": "application/julia",
   "name": "julia",
   "version": "1.8.0"
  },
  "orig_nbformat": 4,
  "vscode": {
   "interpreter": {
    "hash": "ac97efbb835636f86a63c8ea0f697df920e29bf5635b42fc776c23a62298ea01"
   }
  }
 },
 "nbformat": 4,
 "nbformat_minor": 2
}
