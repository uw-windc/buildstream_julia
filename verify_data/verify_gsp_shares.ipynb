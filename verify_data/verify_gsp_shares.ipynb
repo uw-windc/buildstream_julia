{
 "cells": [
  {
   "cell_type": "code",
   "execution_count": 1,
   "metadata": {},
   "outputs": [],
   "source": [
    "include(\"verify_data.jl\")\n",
    "\n",
    "using GamsStructure"
   ]
  },
  {
   "cell_type": "code",
   "execution_count": 2,
   "metadata": {},
   "outputs": [
    {
     "data": {
      "text/plain": []
     },
     "metadata": {},
     "output_type": "display_data"
    },
    {
     "name": "stdout",
     "output_type": "stream",
     "text": [
      "Sets\n",
      "\n",
      "s => BEA Goods and sectors categories\n",
      "yr => Years in WiNDC Database\n",
      "r => Regions in WiNDC Database\n",
      "\n",
      "Parameters\n",
      "\n",
      "labor_shr => (:yr, :r, :s) => Share of regional value added due to labor\n",
      "region_shr => (:yr, :r, :s) => Regional share of value added\n",
      "\n",
      "Scalars\n",
      "\n"
     ]
    }
   ],
   "source": [
    "GU = load_universe(\"../data/shares_gsp\")"
   ]
  },
  {
   "cell_type": "code",
   "execution_count": 4,
   "metadata": {},
   "outputs": [],
   "source": [
    "gams_GU = GamsUniverse()\n",
    "\n",
    "@GamsSets(gams_GU,\"../data/shares_gsp_gams/sets\",begin\n",
    "    :s, \"\"\n",
    "    :yr, \"\"\n",
    "    :r, \"\"\n",
    "end)\n",
    "\n",
    "@GamsParameters(gams_GU,\"../data/shares_gsp_gams/parameters\",begin\n",
    "    :labor_shr, (:yr,:r,:s), \"\", [1,2,3]\n",
    "    :region_shr, (:yr,:r,:s),\"\" ,[1,2,3]\n",
    "end);"
   ]
  },
  {
   "cell_type": "code",
   "execution_count": 10,
   "metadata": {},
   "outputs": [],
   "source": [
    "wrong = wrong_entries(GU,gams_GU)\n",
    "\n",
    "for (key,p) in wrong\n",
    "    println(\"$key -> $(length(p))\")\n",
    "end"
   ]
  },
  {
   "cell_type": "code",
   "execution_count": 6,
   "metadata": {},
   "outputs": [],
   "source": [
    "verify_key(:labor_shr,wrong,GU,gams_GU)"
   ]
  },
  {
   "cell_type": "code",
   "execution_count": 8,
   "metadata": {},
   "outputs": [],
   "source": [
    "sum_wrong(GU,gams_GU)"
   ]
  },
  {
   "cell_type": "code",
   "execution_count": null,
   "metadata": {},
   "outputs": [],
   "source": []
  }
 ],
 "metadata": {
  "kernelspec": {
   "display_name": "Julia 1.8.0",
   "language": "julia",
   "name": "julia-1.8"
  },
  "language_info": {
   "file_extension": ".jl",
   "mimetype": "application/julia",
   "name": "julia",
   "version": "1.8.0"
  },
  "orig_nbformat": 4,
  "vscode": {
   "interpreter": {
    "hash": "ac97efbb835636f86a63c8ea0f697df920e29bf5635b42fc776c23a62298ea01"
   }
  }
 },
 "nbformat": 4,
 "nbformat_minor": 2
}
