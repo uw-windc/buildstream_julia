{
 "cells": [
  {
   "cell_type": "code",
   "execution_count": 13,
   "metadata": {},
   "outputs": [],
   "source": [
    "include(\"verify_data.jl\")\n",
    "\n",
    "using GamsStructure"
   ]
  },
  {
   "cell_type": "code",
   "execution_count": 14,
   "metadata": {},
   "outputs": [],
   "source": [
    "GU = load_universe(\"../data/shares_gsp\");"
   ]
  },
  {
   "cell_type": "code",
   "execution_count": 15,
   "metadata": {},
   "outputs": [],
   "source": [
    "gams_GU = GamsUniverse()\n",
    "\n",
    "@GamsSets(gams_GU,\"../data/shares_gsp_gams/sets\",begin\n",
    "    :s, \"\"\n",
    "    :yr, \"\"\n",
    "    :r, \"\"\n",
    "end)\n",
    "\n",
    "\n",
    "@GamsParameters(gams_GU,\"../data/shares_gsp_gams/parameters\",begin\n",
    "    :labor_shr, (:yr,:r,:s), \"\", [1,2,3]\n",
    "    :region_shr, (:yr,:r,:s),\"\" ,[1,2,3]\n",
    "end);"
   ]
  },
  {
   "cell_type": "code",
   "execution_count": 19,
   "metadata": {},
   "outputs": [
    {
     "data": {
      "text/plain": [
       "Dict{Any, Any}()"
      ]
     },
     "metadata": {},
     "output_type": "display_data"
    }
   ],
   "source": [
    "wrong = wrong_entries(GU,gams_GU,atol = 1e-8)"
   ]
  },
  {
   "cell_type": "code",
   "execution_count": 12,
   "metadata": {},
   "outputs": [
    {
     "data": {
      "text/plain": [
       "0.27156679529702965"
      ]
     },
     "metadata": {},
     "output_type": "display_data"
    }
   ],
   "source": [
    "yr = Symbol(2009)\n",
    "r = :DC\n",
    "s = :agr\n",
    "\n",
    "GU[:labor_shr][[yr],[r],[s]]"
   ]
  },
  {
   "cell_type": "code",
   "execution_count": 92,
   "metadata": {},
   "outputs": [
    {
     "data": {
      "text/plain": [
       "0.27156679529702965"
      ]
     },
     "metadata": {},
     "output_type": "display_data"
    }
   ],
   "source": [
    "gams_GU[:labor_shr][[yr],[r],[s]]"
   ]
  },
  {
   "cell_type": "code",
   "execution_count": 28,
   "metadata": {},
   "outputs": [
    {
     "data": {
      "text/plain": [
       "4-element Vector{Vector{Symbol}}:\n",
       " [:DC]\n",
       " [:DE]\n",
       " [:AK]\n",
       " [:HI]"
      ]
     },
     "metadata": {},
     "output_type": "display_data"
    }
   ],
   "source": [
    "unique([b for (a,b,c) in wrong[:labor_shr]])"
   ]
  },
  {
   "cell_type": "code",
   "execution_count": 64,
   "metadata": {},
   "outputs": [
    {
     "name": "stdout",
     "output_type": "stream",
     "text": [
      "0.06766513551274742\n",
      "0.06876843999383235\n"
     ]
    },
    {
     "data": {
      "text/plain": [
       "NaN"
      ]
     },
     "metadata": {},
     "output_type": "display_data"
    }
   ],
   "source": [
    "yr = Symbol(2008)\n",
    "r = :NY\n",
    "s = :use\n",
    "\n",
    "println(GU[:region_shr][[yr],[r],[s]])\n",
    "println(gams_GU[:region_shr][[yr],[r],[s]])\n",
    "\n",
    "\n",
    "GU[:gsp0][[yr],[r],[s],[:reported]] / sum(GU[:gsp0][[yr],:r,[s],[:reported]])\n"
   ]
  },
  {
   "cell_type": "code",
   "execution_count": 65,
   "metadata": {},
   "outputs": [
    {
     "data": {
      "text/plain": [
       "0.0"
      ]
     },
     "metadata": {},
     "output_type": "display_data"
    }
   ],
   "source": [
    "sum(GU[:gsp0][[yr],:r,[s],[:reported]])"
   ]
  },
  {
   "cell_type": "code",
   "execution_count": 60,
   "metadata": {},
   "outputs": [
    {
     "data": {
      "text/plain": [
       "0.029592650979934215"
      ]
     },
     "metadata": {},
     "output_type": "display_data"
    }
   ],
   "source": [
    "#for yr∈YR,r∈R,s∈S\n",
    "R = GU[:r]\n",
    "yr = Symbol(2008)\n",
    "r = :NY\n",
    "s = :ppd\n",
    "#sum(GU[:region_shr][[yr],R,[s]])\n",
    "sum(GU[:region_shr][[yr],R,[s]])!=0 ?  GU[:region_shr][[yr],[r],[s]] / sum(GU[:region_shr][[yr],R,[s]]) : 0\n",
    "#end"
   ]
  },
  {
   "cell_type": "code",
   "execution_count": 17,
   "metadata": {},
   "outputs": [],
   "source": [
    "#verify_key(:region_shr,wrong,GU,gams_GU)"
   ]
  },
  {
   "cell_type": "code",
   "execution_count": 6,
   "metadata": {},
   "outputs": [
    {
     "name": "stdout",
     "output_type": "stream",
     "text": [
      "labor_shr -> 44128.67438605055\n",
      "region_shr -> 0.34581996066126436\n"
     ]
    }
   ],
   "source": [
    "sum_wrong(GU,gams_GU)"
   ]
  },
  {
   "cell_type": "code",
   "execution_count": null,
   "metadata": {},
   "outputs": [],
   "source": []
  }
 ],
 "metadata": {
  "kernelspec": {
   "display_name": "Julia 1.8.0",
   "language": "julia",
   "name": "julia-1.8"
  },
  "language_info": {
   "file_extension": ".jl",
   "mimetype": "application/julia",
   "name": "julia",
   "version": "1.8.0"
  },
  "orig_nbformat": 4,
  "vscode": {
   "interpreter": {
    "hash": "ac97efbb835636f86a63c8ea0f697df920e29bf5635b42fc776c23a62298ea01"
   }
  }
 },
 "nbformat": 4,
 "nbformat_minor": 2
}
