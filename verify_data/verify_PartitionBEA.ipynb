{
 "cells": [
  {
   "cell_type": "code",
   "execution_count": 1,
   "metadata": {},
   "outputs": [
    {
     "data": {
      "text/plain": [
       "sum_wrong (generic function with 1 method)"
      ]
     },
     "metadata": {},
     "output_type": "display_data"
    }
   ],
   "source": [
    "include(\"../PartitionBEA.jl\");\n",
    "GU = PartitionBEA(input_dir = \"../data/nationalmodel_raw_data\")\n",
    "\n",
    "include(\"verify_data.jl\")"
   ]
  },
  {
   "cell_type": "code",
   "execution_count": 6,
   "metadata": {},
   "outputs": [],
   "source": [
    "old_GU = GamsUniverse()\n",
    "set_dir = \"../data/partitionbea_data_gams/set\"\n",
    "\n",
    "@GamsSets(old_GU,set_dir,begin\n",
    "        :i,       \"BEA Goods and sectors categories\"\n",
    "        :yr,      \"Years in dataset\", false\n",
    "        :va,      \"BEA Value added categories\"\n",
    "        :fd,      \"BEA Final demand categories\"\n",
    "        :ts,      \"BEA Taxes and subsidies categories\"\n",
    "        :m,       \"Margins\"\n",
    "end);\n",
    "\n",
    "alias(old_GU,:i,:j);"
   ]
  },
  {
   "cell_type": "code",
   "execution_count": 7,
   "metadata": {},
   "outputs": [],
   "source": [
    "\n",
    "parm_dir = \"../data/partitionbea_data_gams/parameter\"\n",
    "@GamsParameters(old_GU,parm_dir,begin\n",
    ":y0    , (:yr,:i),\t    \"Gross output\"\n",
    ":ys0   , (:yr,:j,:i),\t\"Sectoral supply\"\n",
    ":fs0   , (:yr,:i),\t    \"Household supply\"\n",
    ":id0   , (:yr,:i,:j),\t\"Intermediate demand\"\n",
    ":fd0   , (:yr,:i,:fd),\t\"Final demand,\"\n",
    ":va0   , (:yr,:va,:j),\t\"Value added\"\n",
    ":ts0   , (:yr,:ts,:j),\t\"Taxes and subsidies\"\n",
    ":m0    , (:yr,:i),\t    \"Imports\"\n",
    ":x0    , (:yr,:i),\t    \"Exports of goods and services\"\n",
    ":mrg0  , (:yr,:i),\t    \"Trade margins\"\n",
    ":trn0  , (:yr,:i),\t    \"Transportation costs\"\n",
    "#:cif0  , (:yr,:i),\t    \"CIF/FOB Adjustments on Imports\"\n",
    ":duty0 , (:yr,:i),\t    \"Import duties\"\n",
    ":sbd0  , (:yr,:i),\t    \"Subsidies on products\"\n",
    ":tax0  , (:yr,:i),\t    \"Taxes on products\"\n",
    ":ms0   , (:yr,:i,:m),   \"Margin supply\"\n",
    ":md0   , (:yr,:m,:i),   \"Margin demand\"\n",
    ":s0    , (:yr,:i),      \"Aggegrate Supply\"\n",
    "#:d0    , (:yr,:i),      \"Sales in teh domestic market\"\n",
    ":a0    , (:yr,:i),      \"Armington supply\"\n",
    "#:bopdef, (:yr,),        \"Balance of payments deficit\"\n",
    ":tm0   , (:yr,:i),      \"Tax net subsidy rate on intermediate demand\"\n",
    ":ta0   , (:yr,:i),      \"Import tariff\"\n",
    "end);"
   ]
  },
  {
   "cell_type": "code",
   "execution_count": 8,
   "metadata": {},
   "outputs": [],
   "source": [
    "names = Dict(\n",
    "    :md0 => :md_0,\n",
    "    :s0 => :s_0,\n",
    "    :m0 => :m_0,\n",
    "    :trn0 => :trn_0,\n",
    "    :tm0 => :tm_0,\n",
    "    :ta0 => :ta_0,\n",
    "    :y0 => :y_0,\n",
    "    :va0 => :va_0,\n",
    "    :mrg0 => :mrg_0,\n",
    "    :ys0 => :ys_0,\n",
    "    :id0 => :id_0,\n",
    "    :x0 => :x_0,\n",
    "    :tax0 => :tax_0,\n",
    "    :ms0 => :ms_0,\n",
    "    :fs0 => :fs_0,\n",
    "    :fd0 => :fd_0,\n",
    "    :duty0 => :duty_0,\n",
    "    :ts0 => :ts_0,\n",
    "    :sbd0 => :sbd_0,\n",
    "    :a0 => :a_0\n",
    ");"
   ]
  },
  {
   "cell_type": "code",
   "execution_count": 13,
   "metadata": {},
   "outputs": [
    {
     "data": {
      "text/plain": [
       "Dict{Any, Any}()"
      ]
     },
     "metadata": {},
     "output_type": "display_data"
    }
   ],
   "source": [
    "wrong = wrong_entries(GU,old_GU;convert_dict = names,atol = 1e-15)"
   ]
  },
  {
   "cell_type": "code",
   "execution_count": 10,
   "metadata": {},
   "outputs": [],
   "source": [
    "verify_key(:y0,wrong,GU,old_GU;convert_dict = names)"
   ]
  },
  {
   "cell_type": "code",
   "execution_count": 11,
   "metadata": {},
   "outputs": [
    {
     "name": "stdout",
     "output_type": "stream",
     "text": [
      "md0 -> 0.0\n",
      "s0 -> 0.0\n",
      "m0 -> 0.0\n",
      "trn0 -> 0.0\n",
      "tm0 -> 0.0\n",
      "ta0 -> 0.0\n",
      "y0 -> 0.0\n",
      "va0 -> 0.0\n",
      "mrg0 -> 0.0\n",
      "ys0 -> 0.0\n",
      "id0 -> 0.0\n",
      "x0 -> 0.0\n",
      "tax0 -> 0.0\n",
      "ms0 -> 0.0\n",
      "fs0 -> 0.0\n",
      "fd0 -> 0.0\n",
      "duty0 -> 0.0\n",
      "ts0 -> 0.0\n",
      "sbd0 -> 0.0\n",
      "a0 -> 0.0\n"
     ]
    }
   ],
   "source": [
    "sum_wrong(GU,old_GU;convert_dict = names)"
   ]
  },
  {
   "cell_type": "code",
   "execution_count": null,
   "metadata": {},
   "outputs": [],
   "source": []
  }
 ],
 "metadata": {
  "kernelspec": {
   "display_name": "Julia 1.8.0",
   "language": "julia",
   "name": "julia-1.8"
  },
  "language_info": {
   "file_extension": ".jl",
   "mimetype": "application/julia",
   "name": "julia",
   "version": "1.8.0"
  },
  "orig_nbformat": 4
 },
 "nbformat": 4,
 "nbformat_minor": 2
}
