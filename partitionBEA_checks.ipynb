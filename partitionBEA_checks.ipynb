{
 "cells": [
  {
   "cell_type": "code",
   "execution_count": 9,
   "metadata": {},
   "outputs": [
    {
     "data": {
      "text/plain": [
       "partitionBEA_imrginfo (generic function with 1 method)"
      ]
     },
     "metadata": {},
     "output_type": "display_data"
    }
   ],
   "source": [
    "include(\"partitionBEA.jl\")"
   ]
  },
  {
   "cell_type": "code",
   "execution_count": 14,
   "metadata": {},
   "outputs": [],
   "source": [
    "GU = PartitionBEA()\n",
    "\n",
    "interm = partitionBEA_interm(GU)\n",
    "basic_va = partitionBEA_basicva(GU)\n",
    "valueadded = partitionBEA_valueadded(GU)\n",
    "taxtotal = partitionBEA_taxtotal(GU)\n",
    "output = partitionBEA_output(GU)\n",
    "totint = partitionBEA_totint(GU)\n",
    "totaluse = partitionBEA_totaluse(GU)\n",
    "basicsupply = partitionBEA_basicsupply(GU)\n",
    "tsupply = partitionBEA_tsupply(GU)\n",
    "details = partitionBEA_details(GU)\n",
    "imrginfo = partitionBEA_imrginfo(GU);"
   ]
  }
 ],
 "metadata": {
  "kernelspec": {
   "display_name": "Julia 1.8.0",
   "language": "julia",
   "name": "julia-1.8"
  },
  "language_info": {
   "file_extension": ".jl",
   "mimetype": "application/julia",
   "name": "julia",
   "version": "1.8.0"
  },
  "orig_nbformat": 4,
  "vscode": {
   "interpreter": {
    "hash": "ac97efbb835636f86a63c8ea0f697df920e29bf5635b42fc776c23a62298ea01"
   }
  }
 },
 "nbformat": 4,
 "nbformat_minor": 2
}
