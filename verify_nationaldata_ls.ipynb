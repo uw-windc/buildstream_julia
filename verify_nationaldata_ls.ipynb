{
 "cells": [
  {
   "cell_type": "code",
   "execution_count": 18,
   "metadata": {},
   "outputs": [],
   "source": [
    "using GamsStructure"
   ]
  },
  {
   "cell_type": "code",
   "execution_count": 37,
   "metadata": {},
   "outputs": [
    {
     "data": {
      "text/plain": [
       "false"
      ]
     },
     "metadata": {},
     "output_type": "display_data"
    }
   ],
   "source": [
    "GU = load_universe(\"julia_nationaldata_ls\");\n",
    "GU[:i][:use].active = false\n",
    "GU[:i][:oth].active = false\n",
    "\n",
    "GU[:j][:use].active = false\n",
    "GU[:j][:oth].active = false"
   ]
  },
  {
   "cell_type": "code",
   "execution_count": 38,
   "metadata": {},
   "outputs": [],
   "source": [
    "gams_GU = GamsUniverse()\n",
    "set_dir = \"gams_nationaldata_ls/set\"\n",
    "@GamsSets(gams_GU,set_dir,begin\n",
    "    :i, \"lkajdf\"\n",
    "    :fd, \"\"\n",
    "    :m, \"\"\n",
    "    :r, \"\"\n",
    "    :ts, \"\"\n",
    "    :va, \"\"\n",
    "    :yr, \"\"\n",
    "end);\n",
    "alias(gams_GU,:i,:j);\n",
    "\n",
    "parm_dir = \"gams_nationaldata_ls/parameter\"\n",
    "@GamsParameters(gams_GU,parm_dir,begin\n",
    "    :y_0, (:yr,:i), \"\"\n",
    "    :ys_0, (:yr,:j,:i), \"\"\n",
    "    :ty_0, (:yr,:j), \"\"\n",
    "    :id_0, (:yr,:i,:j), \"\"\n",
    "    :fd_0, (:yr,:i,:fd), \"\"\n",
    "    :va_0, (:yr,:va,:j), \"\"\n",
    "    :m_0, (:yr,:i), \"\"\n",
    "    :x_0, (:yr,:i), \"\"\n",
    "    :ms_0, (:yr,:i,:m), \"\"\n",
    "    :md_0, (:yr,:m,:i), \"\"\n",
    "    :s_0, (:yr,:i), \"\"\n",
    "    :a_0, (:yr,:i), \"\"\n",
    "    :bopdef_0, (:yr,), \"\"\n",
    "    :ta_0, (:yr,:i), \"\"\n",
    "    :tm_0, (:yr,:i), \"\"\n",
    "end);"
   ]
  },
  {
   "cell_type": "code",
   "execution_count": 45,
   "metadata": {},
   "outputs": [],
   "source": [
    "wrong = Dict()\n",
    "\n",
    "key = :y0\n",
    "\n",
    "for key in keys(gams_GU.parameters)\n",
    "\n",
    "    old_parm = gams_GU[key]\n",
    "    parm = GU[key]\n",
    "    sets = [[e for e in gams_GU[s]] for s in old_parm.sets]\n",
    "    for idx in Iterators.product(sets...)\n",
    "        ind = [[e] for e in idx]\n",
    "        if !(isapprox(old_parm[ind...],parm[ind...],atol = 1e-5))\n",
    "            if key ∈ keys(wrong)\n",
    "                push!(wrong[key],ind)\n",
    "            else\n",
    "                wrong[key] = [ind]\n",
    "            end\n",
    "        end\n",
    "    end\n",
    "end\n",
    "\n",
    "for (key,p) in wrong\n",
    "    println(\"$key -> $(length(p))\")\n",
    "end"
   ]
  },
  {
   "cell_type": "code",
   "execution_count": 46,
   "metadata": {},
   "outputs": [],
   "source": [
    "key = :y_0\n",
    "out = \"\"\n",
    "for (key,p) in wrong\n",
    "    out*=\"$key\\n\\n\"\n",
    "    for idx in p\n",
    "        out*=\"$idx -> $(GU[key][idx...]) | $(gams_GU[key][idx...])\\n\"\n",
    "    end\n",
    "    out*=\"\\n-----------\\n\"\n",
    "end\n",
    "print(out)"
   ]
  },
  {
   "cell_type": "code",
   "execution_count": null,
   "metadata": {},
   "outputs": [],
   "source": []
  }
 ],
 "metadata": {
  "kernelspec": {
   "display_name": "Julia 1.8.0",
   "language": "julia",
   "name": "julia-1.8"
  },
  "language_info": {
   "file_extension": ".jl",
   "mimetype": "application/julia",
   "name": "julia",
   "version": "1.8.0"
  },
  "orig_nbformat": 4,
  "vscode": {
   "interpreter": {
    "hash": "ac97efbb835636f86a63c8ea0f697df920e29bf5635b42fc776c23a62298ea01"
   }
  }
 },
 "nbformat": 4,
 "nbformat_minor": 2
}
