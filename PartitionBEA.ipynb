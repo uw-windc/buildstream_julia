{
 "cells": [
  {
   "cell_type": "code",
   "execution_count": 3,
   "metadata": {},
   "outputs": [
    {
     "data": {
      "text/plain": []
     },
     "metadata": {},
     "output_type": "display_data"
    },
    {
     "name": "stdout",
     "output_type": "stream",
     "text": [
      "Sets\n",
      "\n",
      "j => BEA Goods and sectors categories => Aliases: [:j, :i]\n",
      "fd => BEA Final demand categories\n",
      "ir_supply => Domain of second column of supply_units\n",
      "jc_supply => Domain of third column of supply_units\n",
      "ts => BEA Taxes and subsidies categories\n",
      "ir_use => Domain of second column of use_units\n",
      "yr => Years in dataset\n",
      "jc_use => Domain of third column of use_units\n",
      "va => BEA Value added categories\n",
      "m => Margins\n",
      "i => BEA Goods and sectors categories => Aliases: [:j, :j]\n",
      "imrg => Goods which only generate margins\n",
      "\n",
      "Parameters\n",
      "\n",
      "a_0 => (:yr, :i) => Armington supply\n",
      "tax_0 => (:yr, :i) => Taxes on products\n",
      "id_0 => (:yr, :i, :j) => Intermediate demand\n",
      "ys_0 => (:yr, :j, :i) => Sectoral supply\n",
      "d_0 => (:yr, :i) => Sales in the domestic market\n",
      "ms_0 => (:yr, :i, :m) => Margin supply\n",
      "x_0 => (:yr, :i) => Exports of goods and services\n",
      "s_0 => (:yr, :i) => Aggegrate Supply\n",
      "fs_0 => (:yr, :i) => Household supply\n",
      "use => (:yr, :ir_use, :jc_use) => Annual use matrix with units domain\n",
      "duty_0 => (:yr, :i) => Import duties\n",
      "trn_0 => (:yr, :i) => Transportation costs\n",
      "tm_0 => (:yr, :i) => Tax net subsidy rate on intermediate demand\n",
      "va_0 => (:yr, :va, :j) => Value added\n",
      "md_0 => (:yr, :m, :i) => Margin demand\n",
      "fd_0 => (:yr, :i, :fd) => Final demand,\n",
      "m_0 => (:yr, :i) => Imports\n",
      "mrg_0 => (:yr, :i) => Trade margins\n",
      "cif0 => (:yr, :i) => CIF/FOB Adjustments on Imports\n",
      "sbd_0 => (:yr, :i) => Subsidies on products\n",
      "ta_0 => (:yr, :i) => Import tariff\n",
      "bopdef => (:yr,) => Balance of payments deficit\n",
      "y_0 => (:yr, :i) => Gross output\n",
      "supply => (:yr, :ir_supply, :jc_supply) => Annual supply matrix with units domain\n",
      "ts_0 => (:yr, :ts, :j) => Taxes and subsidies\n",
      "\n",
      "Scalars\n",
      "\n"
     ]
    }
   ],
   "source": [
    "include(\"PartitionBEA.jl\")\n",
    "\n",
    "GU = PartitionBEA(input_dir = \"data_2017/nationalmodel_raw_data\")"
   ]
  },
  {
   "cell_type": "code",
   "execution_count": 4,
   "metadata": {},
   "outputs": [
    {
     "data": {
      "text/plain": []
     },
     "metadata": {},
     "output_type": "display_data"
    },
    {
     "name": "stdout",
     "output_type": "stream",
     "text": [
      "Years in dataset\n",
      "\n",
      "2008\n",
      "2009\n",
      "2005\n",
      "2006\n",
      "2012\n",
      "2014\n",
      "2013\n",
      "1999\n",
      "2002\n",
      "2017\n",
      "2016\n",
      "2015\n",
      "1998\n",
      "2004\n",
      "2000\n",
      "1997\n",
      "2007\n",
      "2010\n",
      "2003\n",
      "2011\n",
      "2001\n"
     ]
    }
   ],
   "source": [
    "GU[:yr]"
   ]
  }
 ],
 "metadata": {
  "kernelspec": {
   "display_name": "Julia 1.8.0",
   "language": "julia",
   "name": "julia-1.8"
  },
  "language_info": {
   "file_extension": ".jl",
   "mimetype": "application/julia",
   "name": "julia",
   "version": "1.8.0"
  },
  "orig_nbformat": 4
 },
 "nbformat": 4,
 "nbformat_minor": 2
}
