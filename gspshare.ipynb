{
 "cells": [
  {
   "cell_type": "code",
   "execution_count": null,
   "metadata": {},
   "outputs": [],
   "source": [
    "using GamsStructure\n",
    "using CSV"
   ]
  },
  {
   "cell_type": "code",
   "execution_count": 7,
   "metadata": {},
   "outputs": [
    {
     "data": {
      "text/plain": []
     },
     "metadata": {},
     "output_type": "display_data"
    },
    {
     "name": "stdout",
     "output_type": "stream",
     "text": [
      "Sets\n",
      "\n",
      "j => BEA Goods and sectors categories => Aliases: [:s, :i]\n",
      "yr => Years in WiNDC Database\n",
      "gdpcat => Dynamically creates set from parameter gsp_units, GSP components\n",
      "si => Dynamically created set from parameter gsp_units, State industry list\n",
      "va => BEA Value added categories\n",
      "s => BEA Goods and sectors categories => Aliases: [:i, :j]\n",
      "comparelshr_ => Third dimension of comparelshr\n",
      "netva_ => Fourth dimension of netva\n",
      "r => Regions in WiNDC Database\n",
      "units => Dynamically creates set from parameter gsp_units, GSP units\n",
      "gsp0_ => Fourth dimension of gsp0\n",
      "i => BEA Goods and sectors categories => Aliases: [:s, :j]\n",
      "sr => Super Regions in WiNDC Database\n",
      "\n",
      "Parameters\n",
      "\n",
      "netva => (:yr, :r, :s, :netva_) => Net value added (compensation + surplus)\n",
      "seclaborshr => (:yr, :s) => Sector level average labor shares\n",
      "region_shr => (:yr, :r, :s) => Regional share of value added\n",
      "gspcat0 => (:yr, :r, :s, :gdpcat) => Mapped gsp categorical accounts\n",
      "gsp0 => (:yr, :r, :s, :gsp0_) => Mapped state level gsp accounts\n",
      "gsp_units => (:sr, :yr, :gdpcat, :si, :units) => Annual gross state product with units as domain\n",
      "va_0 => (:yr, :va, :j) => Value added\n",
      "lshr_0 => (:yr, :s) => Labor share of value added from national dataset\n",
      "comparelshr => (:yr, :s, :comparelshr_) => Comparison between state and national dataset\n",
      "avgwgshr => (:r, :s) => Average wage share\n",
      "gspcalc => (:r, :yr, :gdpcat, :si) => Calculated gross state product\n",
      "chkshrs => (:yr, :s) => Check on regional shares\n",
      "labor_shr => (:yr, :r, :s) => Share of regional value added due to labor\n",
      "\n",
      "Scalars\n",
      "\n"
     ]
    }
   ],
   "source": [
    "include(\"gspshare.jl\")\n",
    "\n",
    "GU = gspshare(output_path = \"data/shares_gsp\")"
   ]
  },
  {
   "cell_type": "code",
   "execution_count": null,
   "metadata": {},
   "outputs": [],
   "source": []
  }
 ],
 "metadata": {
  "kernelspec": {
   "display_name": "Julia 1.8.0",
   "language": "julia",
   "name": "julia-1.8"
  },
  "language_info": {
   "file_extension": ".jl",
   "mimetype": "application/julia",
   "name": "julia",
   "version": "1.8.0"
  },
  "orig_nbformat": 4
 },
 "nbformat": 4,
 "nbformat_minor": 2
}
