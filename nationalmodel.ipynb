{
 "cells": [
  {
   "cell_type": "code",
   "execution_count": 1,
   "metadata": {},
   "outputs": [
    {
     "data": {
      "text/plain": [
       "national_model_mpsge (generic function with 1 method)"
      ]
     },
     "metadata": {},
     "output_type": "display_data"
    }
   ],
   "source": [
    "include(\"nationalmodel.jl\")"
   ]
  },
  {
   "cell_type": "code",
   "execution_count": 2,
   "metadata": {},
   "outputs": [
    {
     "data": {
      "text/plain": [
       "Dict{Any, Any} with 21 entries:\n",
       "  Symbol(\"2000\") => (A JuMP Model…\n",
       "  Symbol(\"2001\") => (A JuMP Model…\n",
       "  Symbol(\"2014\") => (A JuMP Model…\n",
       "  Symbol(\"2013\") => (A JuMP Model…\n",
       "  Symbol(\"2011\") => (A JuMP Model…\n",
       "  Symbol(\"2009\") => (A JuMP Model…\n",
       "  Symbol(\"2006\") => (A JuMP Model…\n",
       "  Symbol(\"2003\") => (A JuMP Model…\n",
       "  Symbol(\"2016\") => (A JuMP Model…\n",
       "  Symbol(\"2012\") => (A JuMP Model…\n",
       "  Symbol(\"1998\") => (A JuMP Model…\n",
       "  Symbol(\"2002\") => (A JuMP Model…\n",
       "  Symbol(\"2015\") => (A JuMP Model…\n",
       "  Symbol(\"2017\") => (A JuMP Model…\n",
       "  Symbol(\"1999\") => (A JuMP Model…\n",
       "  Symbol(\"1997\") => (A JuMP Model…\n",
       "  Symbol(\"2008\") => (A JuMP Model…\n",
       "  Symbol(\"2007\") => (A JuMP Model…\n",
       "  Symbol(\"2010\") => (A JuMP Model…\n",
       "  ⋮              => ⋮"
      ]
     },
     "metadata": {},
     "output_type": "display_data"
    }
   ],
   "source": [
    "models = national_model(input_dir = \"data_2017/nationaldata_ls_julia\")"
   ]
  },
  {
   "cell_type": "code",
   "execution_count": null,
   "metadata": {},
   "outputs": [],
   "source": [
    "_,m = models[Symbol(\"2017\")]\n",
    "\n",
    "print(generate_report(m))"
   ]
  },
  {
   "cell_type": "code",
   "execution_count": null,
   "metadata": {},
   "outputs": [],
   "source": []
  },
  {
   "cell_type": "markdown",
   "metadata": {},
   "source": [
    "# Export solutions to CSV files"
   ]
  },
  {
   "cell_type": "code",
   "execution_count": null,
   "metadata": {},
   "outputs": [],
   "source": [
    "out_dir = \"julia_sols\"\n",
    "using DataFrames\n",
    "\n",
    "vars = [:Y,:A,:MS,:PA,:PY,:PVA,:PM]\n",
    "for var in vars\n",
    "    df = DataFrame(zip(axes(m[var])[1],result_value.(m[var])))\n",
    "    rename!(df,[:uni_0,:level])\n",
    "    CSV.write(\"$out_dir/$var.csv\",df)\n",
    "end\n",
    "other_vars = [:PFX,:RA]\n",
    "for var in other_vars\n",
    "    df = DataFrame(level = [result_value(m[var])])\n",
    "    #rename!(df,[:level])\n",
    "    CSV.write(\"$out_dir/$var.csv\",df)\n",
    "\n",
    "end\n"
   ]
  }
 ],
 "metadata": {
  "kernelspec": {
   "display_name": "Julia 1.8.0",
   "language": "julia",
   "name": "julia-1.8"
  },
  "language_info": {
   "file_extension": ".jl",
   "mimetype": "application/julia",
   "name": "julia",
   "version": "1.8.0"
  },
  "orig_nbformat": 4
 },
 "nbformat": 4,
 "nbformat_minor": 2
}
