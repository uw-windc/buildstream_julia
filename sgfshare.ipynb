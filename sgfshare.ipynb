{
 "cells": [
  {
   "cell_type": "code",
   "execution_count": 2,
   "metadata": {},
   "outputs": [
    {
     "data": {
      "text/plain": []
     },
     "metadata": {},
     "output_type": "display_data"
    },
    {
     "name": "stdout",
     "output_type": "stream",
     "text": [
      "Sets\n",
      "\n",
      "sgf_raw_units => Dynamical created set from sgf_raw\n",
      "ec => Dynamically created set from the sgf_raw parameter, government expenditure categories\n",
      "yr => Years in WiNDC Database\n",
      "g => BEA Goods and sectors categories => Aliases: [:i]\n",
      "r => Regions in WiNDC Database\n",
      "sr => Super Regions in WiNDC Database\n",
      "i => BEA Goods and sectors categories => Aliases: [:g]\n",
      "\n",
      "Parameters\n",
      "\n",
      "sgf_shr => (:yr, :r, :i) => Regional shares of final consumption\n",
      "sgf_map_agr => (:yr, :r, :i) => Mapped PCE data\n",
      "sgf_units => (:yr, :sr, :ec, :sgf_raw_units) => Personal expenditure data, with units as domain\n",
      "\n",
      "Scalars\n",
      "\n"
     ]
    }
   ],
   "source": [
    "include(\"sgfshare.jl\")\n",
    "\n",
    "GU = sgfshare(output_path = \"data/shares_sgf\")"
   ]
  },
  {
   "cell_type": "code",
   "execution_count": null,
   "metadata": {},
   "outputs": [],
   "source": []
  }
 ],
 "metadata": {
  "kernelspec": {
   "display_name": "Julia 1.8.0",
   "language": "julia",
   "name": "julia-1.8"
  },
  "language_info": {
   "file_extension": ".jl",
   "mimetype": "application/julia",
   "name": "julia",
   "version": "1.8.0"
  },
  "orig_nbformat": 4,
  "vscode": {
   "interpreter": {
    "hash": "ac97efbb835636f86a63c8ea0f697df920e29bf5635b42fc776c23a62298ea01"
   }
  }
 },
 "nbformat": 4,
 "nbformat_minor": 2
}
